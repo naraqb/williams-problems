{
 "cells": [
  {
   "cell_type": "code",
   "execution_count": 14,
   "id": "extra-brunei",
   "metadata": {},
   "outputs": [],
   "source": [
    "import pandas as pd\n",
    "import numpy as np\n",
    "import gurobipy as gp\n",
    "from gurobipy import GRB"
   ]
  },
  {
   "cell_type": "code",
   "execution_count": 99,
   "id": "hollow-channel",
   "metadata": {},
   "outputs": [],
   "source": [
    "data1 = [[10e3, 15e3, 10e3, 20e3,  5e3],\n",
    "         [10e3, 20e3, 15e3, 15e3, 15e3],\n",
    "         [ 0,  0,  0,  0,  0]]\n",
    "\n",
    "data2 = [[0.0, 0.0, 1.0e3, 1.5e3, 0.0],\n",
    "         [0.0, 0.0, 1.4e3, 1.2e3, 0.0],\n",
    "         [0.0, 0.0, 0.0, 0.0, 2.0e3],\n",
    "         [0.0, 0.0, 0.0, 0.0, 0.7e3],\n",
    "         [0.0, 0.0, 0.0, 0.0, 0.0]]\n",
    "\n",
    "data3 = [[ 5, 14, 13],\n",
    "         [14,  5,  9],\n",
    "         [13,  9, 10]]\n",
    "\n",
    "CITIES = ['Bristol', 'Brighton', 'London']\n",
    "DEPTS = ['A', 'B', 'C', 'D', 'E']\n",
    "DEPTS_COMB = {'A': ['B', 'C', 'D', 'E'],\n",
    "              'B': ['C', 'D', 'E'],\n",
    "              'C': ['D', 'E'],\n",
    "              'D': ['E'],\n",
    "              'E': []}\n",
    "\n",
    "benefits = pd.DataFrame(data1, columns=DEPTS, index=CITIES)\n",
    "comm_qty = pd.DataFrame(data2, columns=DEPTS, index=DEPTS).fillna(value=0)\n",
    "comm_cost = pd.DataFrame(data3, columns=CITIES, index=CITIES)\n",
    "comm_pairs = [(i, j, k, l) for i in DEPARTS for j in CITIES for k in DEPTS_COMB[i] for l in CITIES if comm_qty[k][i]>0]"
   ]
  },
  {
   "cell_type": "code",
   "execution_count": 144,
   "id": "appreciated-guatemala",
   "metadata": {},
   "outputs": [],
   "source": [
    "model = gp.Model('Decentralisation')\n",
    "\n",
    "# add vars\n",
    "loc = model.addVars(DEPTS, CITIES,\n",
    "                    name='loc',\n",
    "                    vtype=GRB.BINARY)\n",
    "comm = model.addVars(comm_pairs,\n",
    "                     name='comm',\n",
    "                    vtype=GRB.BINARY)\n",
    "\n",
    "# obj function\n",
    "model.setObjective((gp.quicksum(benefits[i][j]*loc[i,j] for i in DEPTS for j in CITIES) - \n",
    "                    gp.quicksum(comm_qty[k][i]*comm_cost[l][j]*comm[i,j,k,l] for i,j,k,l in comm_pairs)),\n",
    "                   GRB.MAXIMIZE)\n",
    "\n",
    "# constraints\n",
    "model.addConstrs((gp.quicksum(loc[i,j] for j in CITIES) == 1 for i in DEPTS),\n",
    "                  name='dept_in_city')\n",
    "model.addConstrs((gp.quicksum(loc[i,j] for i in DEPTS) <= 3 for j in CITIES),\n",
    "                 name='max_3_dept')\n",
    "model.addConstrs((comm[i,j,k,l] - loc[i,j] <= 0 for i,j,k,l in comm_pairs),\n",
    "                 name='if_comm_then_loc')\n",
    "model.addConstrs((comm[i,j,k,l] - loc[k,l] <= 0 for i,j,k,l in comm_pairs),\n",
    "                 name='if_comm_then_loc')\n",
    "model.addConstrs((loc[i,j] + loc[k,l] - comm[i,j,k,l] <= 1 for i,j,k,l in comm_pairs),\n",
    "                 name='if_loc_then_comm')\n",
    "\n",
    "model.update()"
   ]
  },
  {
   "cell_type": "code",
   "execution_count": 145,
   "id": "bright-inflation",
   "metadata": {},
   "outputs": [
    {
     "name": "stdout",
     "output_type": "stream",
     "text": [
      "Warning: linear constraint 8 and linear constraint 62 have the same name \"if_comm_then_loc[A,Bristol,C,Bristol]\"\n",
      "Gurobi Optimizer version 9.1.0 build v9.1.0rc0 (win64)\n",
      "Thread count: 4 physical cores, 8 logical processors, using up to 8 threads\n",
      "Optimize a model with 170 rows, 69 columns and 408 nonzeros\n",
      "Model fingerprint: 0x353be910\n",
      "Variable types: 0 continuous, 69 integer (69 binary)\n",
      "Coefficient statistics:\n",
      "  Matrix range     [1e+00, 1e+00]\n",
      "  Objective range  [4e+03, 3e+04]\n",
      "  Bounds range     [1e+00, 1e+00]\n",
      "  RHS range        [1e+00, 3e+00]\n",
      "Found heuristic solution: objective -54800.00000\n",
      "Presolve time: 0.00s\n",
      "Presolved: 170 rows, 69 columns, 408 nonzeros\n",
      "Variable types: 0 continuous, 69 integer (69 binary)\n",
      "\n",
      "Root relaxation: objective 6.750000e+04, 13 iterations, 0.00 seconds\n",
      "\n",
      "    Nodes    |    Current Node    |     Objective Bounds      |     Work\n",
      " Expl Unexpl |  Obj  Depth IntInf | Incumbent    BestBd   Gap | It/Node Time\n",
      "\n",
      "     0     0 67500.0000    0   10 -54800.000 67500.0000   223%     -    0s\n",
      "H    0     0                    -18000.00000 67500.0000   475%     -    0s\n",
      "H    0     0                    -16300.00000 67500.0000   514%     -    0s\n",
      "H    0     0                    -12700.00000 67500.0000   631%     -    0s\n",
      "H    0     0                    -12500.00000 67500.0000   640%     -    0s\n",
      "H    0     0                    -11800.00000 57000.0000   583%     -    0s\n",
      "H    0     0                    -11400.00000 57000.0000   600%     -    0s\n",
      "     0     0 30000.0000    0   22 -11400.000 30000.0000   363%     -    0s\n",
      "H    0     0                    -9800.000000 30000.0000   406%     -    0s\n",
      "H    0     0                    8100.0000000 30000.0000   270%     -    0s\n",
      "H    0     0                    14900.000000 30000.0000   101%     -    0s\n",
      "\n",
      "Cutting planes:\n",
      "  Gomory: 3\n",
      "  Implied bound: 12\n",
      "  MIR: 7\n",
      "  Zero half: 5\n",
      "  Mod-K: 1\n",
      "  RLT: 31\n",
      "\n",
      "Explored 1 nodes (42 simplex iterations) in 0.07 seconds\n",
      "Thread count was 8 (of 8 available processors)\n",
      "\n",
      "Solution count 10: 14900 8100 -9800 ... -54800\n",
      "\n",
      "Optimal solution found (tolerance 1.00e-04)\n",
      "Best objective 1.490000000000e+04, best bound 1.490000000000e+04, gap 0.0000%\n"
     ]
    }
   ],
   "source": [
    "model.write('8 Decentralisation.lp')\n",
    "model.optimize()"
   ]
  },
  {
   "cell_type": "code",
   "execution_count": 148,
   "id": "indonesian-sheriff",
   "metadata": {},
   "outputs": [
    {
     "name": "stdout",
     "output_type": "stream",
     "text": [
      "Profit (benefits-costs) of $14900.00\n",
      "Department A in Bristol\n",
      "Department B in Brighton\n",
      "Department C in Brighton\n",
      "Department D in Bristol\n",
      "Department E in Brighton\n"
     ]
    }
   ],
   "source": [
    "print('Profit (benefits-costs) of ${:.2f}'.format(model.objVal))\n",
    "\n",
    "for i, j in loc.keys():\n",
    "    if loc[i,j].x >0:\n",
    "        print('Department {} in {}'.format(i,j))"
   ]
  }
 ],
 "metadata": {
  "kernelspec": {
   "display_name": "Python 3",
   "language": "python",
   "name": "python3"
  },
  "language_info": {
   "codemirror_mode": {
    "name": "ipython",
    "version": 3
   },
   "file_extension": ".py",
   "mimetype": "text/x-python",
   "name": "python",
   "nbconvert_exporter": "python",
   "pygments_lexer": "ipython3",
   "version": "3.8.6"
  }
 },
 "nbformat": 4,
 "nbformat_minor": 5
}
