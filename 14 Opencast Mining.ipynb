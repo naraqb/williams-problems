{
 "cells": [
  {
   "cell_type": "code",
   "execution_count": 1,
   "id": "golden-frederick",
   "metadata": {},
   "outputs": [],
   "source": [
    "import pandas as pd\n",
    "import itertools as it\n",
    "import gurobipy as gp\n",
    "from gurobipy import GRB"
   ]
  },
  {
   "cell_type": "code",
   "execution_count": 4,
   "id": "spread-marble",
   "metadata": {},
   "outputs": [],
   "source": [
    "data = [1.5, 1.5, 1.5, 0.75,\n",
    "        1.5, 2.0, 1.5, 0.75,\n",
    "        1.0, 1.0, 0.75, 0.5,\n",
    "        0.75, 0.75, 0.5, 0.25,\n",
    "        4.0, 4.0, 2.0,\n",
    "        3.0, 3.0, 1.0,\n",
    "        2.0, 2.0, 0.5,\n",
    "        12.0, 6.0,\n",
    "        5.0, 4.0,\n",
    "        6.0]\n",
    "\n",
    "levels = list(range(1,5))\n",
    "\n",
    "blocks = []\n",
    "for l in levels:\n",
    "    horiz = list(range(1,6-l))\n",
    "    blocks.extend(list(it.product([l], horiz, horiz)))\n",
    "\n",
    "block_above = {}\n",
    "for b in blocks:\n",
    "    if b[0]==1: \n",
    "        block_above[b] = []\n",
    "        continue\n",
    "    above = [(b[0]-1, b[1],   b[2]),\n",
    "             (b[0]-1, b[1]+1, b[2]),\n",
    "             (b[0]-1, b[1],   b[2]+1), \n",
    "             (b[0]-1, b[1]+1, b[2]+1)]\n",
    "    block_above[b] = above\n",
    "\n",
    "whole_value  = 200000\n",
    "block_value = dict(zip(blocks, [d/100*whole_value for d in data]))\n",
    "extract_cost = dict(zip(levels, [3000, 6000, 8000, 10000]))"
   ]
  },
  {
   "cell_type": "code",
   "execution_count": 20,
   "id": "sensitive-wisconsin",
   "metadata": {},
   "outputs": [
    {
     "name": "stdout",
     "output_type": "stream",
     "text": [
      "Warning: constraint name \"above(2, 1, 1)[1,1,1]\" has a space\n",
      "Gurobi Optimizer version 9.1.0 build v9.1.0rc0 (win64)\n",
      "Thread count: 4 physical cores, 8 logical processors, using up to 8 threads\n",
      "Optimize a model with 56 rows, 30 columns and 112 nonzeros\n",
      "Model fingerprint: 0xebc1bcea\n",
      "Coefficient statistics:\n",
      "  Matrix range     [1e+00, 1e+00]\n",
      "  Objective range  [1e+03, 2e+04]\n",
      "  Bounds range     [1e+00, 1e+00]\n",
      "  RHS range        [0e+00, 0e+00]\n",
      "Presolve removed 22 rows and 12 columns\n",
      "Presolve time: 0.02s\n",
      "Presolved: 34 rows, 18 columns, 68 nonzeros\n",
      "\n",
      "Iteration    Objective       Primal Inf.    Dual Inf.      Time\n",
      "       0    2.3014500e+04   8.003000e+00   0.000000e+00      0s\n",
      "       8    1.7500000e+04   0.000000e+00   0.000000e+00      0s\n",
      "\n",
      "Solved in 8 iterations and 0.03 seconds\n",
      "Optimal objective  1.750000000e+04\n"
     ]
    }
   ],
   "source": [
    "model = gp.Model('Opencast Mining')\n",
    "\n",
    "# add vars\n",
    "b = model.addVars(blocks,\n",
    "                  ub=1,\n",
    "                  name='b')\n",
    "\n",
    "# objective function\n",
    "model.setObjective((gp.quicksum(b[i]*(block_value[i]-extract_cost[i[0]]) \n",
    "                                for i in blocks)),\n",
    "                   GRB.MAXIMIZE)\n",
    "\n",
    "# add constraints\n",
    "for i in blocks:\n",
    "    model.addConstrs((b[a] - b[i] >= 0 for a in block_above[i]),\n",
    "                     name='above'+str(i))\n",
    "    \n",
    "model.update()\n",
    "model.write('Opencast Mining.lp')\n",
    "model.optimize()"
   ]
  },
  {
   "cell_type": "code",
   "execution_count": 22,
   "id": "normal-ozone",
   "metadata": {},
   "outputs": [
    {
     "name": "stdout",
     "output_type": "stream",
     "text": [
      "Total profit of $17500.00\n",
      "Extract blocks\n",
      "(1, 1, 1)\n",
      "(1, 1, 2)\n",
      "(1, 1, 3)\n",
      "(1, 2, 1)\n",
      "(1, 2, 2)\n",
      "(1, 2, 3)\n",
      "(1, 3, 1)\n",
      "(1, 3, 2)\n",
      "(1, 3, 3)\n",
      "(2, 1, 1)\n",
      "(2, 1, 2)\n",
      "(2, 2, 1)\n",
      "(2, 2, 2)\n",
      "(3, 1, 1)\n"
     ]
    }
   ],
   "source": [
    "print('Total profit of ${:.2f}'.format(model.ObjVal))\n",
    "print('Extract blocks')\n",
    "for i in blocks:\n",
    "    if b[i].x>0:\n",
    "        print(i)"
   ]
  }
 ],
 "metadata": {
  "kernelspec": {
   "display_name": "Python 3",
   "language": "python",
   "name": "python3"
  },
  "language_info": {
   "codemirror_mode": {
    "name": "ipython",
    "version": 3
   },
   "file_extension": ".py",
   "mimetype": "text/x-python",
   "name": "python",
   "nbconvert_exporter": "python",
   "pygments_lexer": "ipython3",
   "version": "3.8.6"
  }
 },
 "nbformat": 4,
 "nbformat_minor": 5
}
