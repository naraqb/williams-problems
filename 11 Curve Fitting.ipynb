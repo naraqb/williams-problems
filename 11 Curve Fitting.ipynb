{
 "cells": [
  {
   "cell_type": "code",
   "execution_count": 1,
   "metadata": {},
   "outputs": [],
   "source": [
    "import pandas as pd\n",
    "import matplotlib.pyplot as plt\n",
    "import gurobipy as gp\n",
    "from gurobipy import GRB"
   ]
  },
  {
   "cell_type": "code",
   "execution_count": 2,
   "metadata": {},
   "outputs": [
    {
     "data": {
      "image/png": "[encoded data removed]",
      "text/plain": [
       "<Figure size 432x288 with 1 Axes>"
      ]
     },
     "metadata": {
      "needs_background": "light"
     },
     "output_type": "display_data"
    }
   ],
   "source": [
    "data = [[0.0, 0.5, 1.0, 1.5, 1.9, 2.5, 3.0, 3.5, 4.0, 4.5, \n",
    "         5.0, 5.5, 6.0, 6.6, 7.0, 7.6, 8.5, 9.0, 10.0],\n",
    "        [1.0, 0.9, 0.7, 1.5, 2.0, 2.4, 3.2, 2.0, 2.7, 3.5, \n",
    "         1.0, 4.0, 3.6, 2.7, 5.7, 4.6, 6.0, 6.8,  7.3]]\n",
    "\n",
    "values = pd.DataFrame(data).transpose().rename(columns={0: 'x', 1:'y'})\n",
    "values.index += 1\n",
    "\n",
    "I = values.index\n",
    "\n",
    "axes = plt.scatter(values.x, values.y)"
   ]
  },
  {
   "cell_type": "markdown",
   "metadata": {},
   "source": [
    "### Case 1: Straight Line, Minimizing Absolute Deviation\n",
    "\n",
    "Absolute Deviation is the total sum of slack and surplus variables"
   ]
  },
  {
   "cell_type": "code",
   "execution_count": 3,
   "metadata": {},
   "outputs": [
    {
     "name": "stdout",
     "output_type": "stream",
     "text": [
      "Using license file C:\\Users\\Nara\\gurobi.lic\n",
      "Academic license - for non-commercial use only - expires 2021-03-12\n"
     ]
    }
   ],
   "source": [
    "model1 = gp.Model('Curve Fitting case1')\n",
    "\n",
    "# add vars\n",
    "a_c1 = model1.addVar(lb=-float('inf'), ub=float('inf'),\n",
    "                  name='linear_coeff',)\n",
    "b_c1 = model1.addVar(lb=-float('inf'), ub=float('inf'),\n",
    "                  name='angular_coeff',)\n",
    "u_c1 = model1.addVars(I,\n",
    "                  name='slack')\n",
    "v_c1 = model1.addVars(I,\n",
    "                  name='surplus')\n",
    "\n",
    "# objective function\n",
    "model1.setObjective((gp.quicksum(u_c1[i] + v_c1[i] for i in I)),\n",
    "                    GRB.MINIMIZE)\n",
    "\n",
    "# add constraints\n",
    "model1.addConstrs((b_c1*values.x[i] + a_c1 + u_c1[i] - v_c1[i] == values.y[i] for i in I),\n",
    "                  name='fit')\n",
    "\n",
    "model1.update()"
   ]
  },
  {
   "cell_type": "code",
   "execution_count": 4,
   "metadata": {},
   "outputs": [
    {
     "name": "stdout",
     "output_type": "stream",
     "text": [
      "Gurobi Optimizer version 9.1.0 build v9.1.0rc0 (win64)\n",
      "Thread count: 4 physical cores, 8 logical processors, using up to 8 threads\n",
      "Optimize a model with 19 rows, 40 columns and 75 nonzeros\n",
      "Model fingerprint: 0x2f6533c8\n",
      "Coefficient statistics:\n",
      "  Matrix range     [5e-01, 1e+01]\n",
      "  Objective range  [1e+00, 1e+00]\n",
      "  Bounds range     [0e+00, 0e+00]\n",
      "  RHS range        [7e-01, 7e+00]\n",
      "Presolve time: 0.02s\n",
      "Presolved: 19 rows, 40 columns, 75 nonzeros\n",
      "\n",
      "Iteration    Objective       Primal Inf.    Dual Inf.      Time\n",
      "       0      handle free variables                          0s\n",
      "      20    1.1466250e+01   0.000000e+00   0.000000e+00      0s\n",
      "\n",
      "Solved in 20 iterations and 0.04 seconds\n",
      "Optimal objective  1.146625000e+01\n"
     ]
    }
   ],
   "source": [
    "model1.write('Curve Fitting case1.lp')\n",
    "model1.optimize()"
   ]
  },
  {
   "cell_type": "code",
   "execution_count": 5,
   "metadata": {},
   "outputs": [
    {
     "name": "stdout",
     "output_type": "stream",
     "text": [
      "Linear Coefficient  =  0.58125\n",
      "Angular Coefficient =  0.6375\n"
     ]
    },
    {
     "data": {
      "text/plain": [
       "[<matplotlib.lines.Line2D at 0x25706a0f1c0>]"
      ]
     },
     "execution_count": 5,
     "metadata": {},
     "output_type": "execute_result"
    },
    {
     "data": {
      "image/png": "[encoded data removed]",
      "text/plain": [
       "<Figure size 432x288 with 1 Axes>"
      ]
     },
     "metadata": {
      "needs_background": "light"
     },
     "output_type": "display_data"
    }
   ],
   "source": [
    "print('Linear Coefficient  = ', a_c1.x)\n",
    "print('Angular Coefficient = ', b_c1.x)\n",
    "\n",
    "fitted_line_x = [values.x[i] for i in I]\n",
    "fitted_line_y = [b_c1.x*values.x[i] + a_c1.x for i in I]\n",
    "plt.scatter(values.x, values.y)\n",
    "plt.plot(fitted_line_x, fitted_line_y)"
   ]
  },
  {
   "cell_type": "markdown",
   "metadata": {},
   "source": [
    "### Case 2: Straight Line, Minimizing Maximum Deviation"
   ]
  },
  {
   "cell_type": "code",
   "execution_count": 6,
   "metadata": {},
   "outputs": [],
   "source": [
    "model2 = gp.Model('Curve Fitting case2')\n",
    "\n",
    "# add vars\n",
    "a_c2 = model2.addVar(lb=-float('inf'), ub=float('inf'),\n",
    "                  name='linear_coeff',)\n",
    "b_c2 = model2.addVar(lb=-float('inf'), ub=float('inf'),\n",
    "                  name='angular_coeff',)\n",
    "u_c2 = model2.addVars(I,\n",
    "                  name='slack')\n",
    "v_c2 = model2.addVars(I,\n",
    "                  name='surplus')\n",
    "z_c2 = model2.addVar(name='max_deviation',)\n",
    "\n",
    "# objective function\n",
    "model2.setObjective((z_c2),\n",
    "                    GRB.MINIMIZE)\n",
    "\n",
    "# add constraints\n",
    "model2.addConstrs((b_c2*values.x[i] + a_c2 + u_c2[i] - v_c2[i] == values.y[i] for i in I),\n",
    "                  name='fit')\n",
    "model2.addConstrs((z_c2 - u_c2[i] >= 0 for i in I),\n",
    "                  name='max_dev_u')\n",
    "model2.addConstrs((z_c2 - v_c2[i] >= 0 for i in I),\n",
    "                  name='max_dev_v')\n",
    "\n",
    "model2.update()"
   ]
  },
  {
   "cell_type": "code",
   "execution_count": 7,
   "metadata": {},
   "outputs": [
    {
     "name": "stdout",
     "output_type": "stream",
     "text": [
      "Gurobi Optimizer version 9.1.0 build v9.1.0rc0 (win64)\n",
      "Thread count: 4 physical cores, 8 logical processors, using up to 8 threads\n",
      "Optimize a model with 57 rows, 41 columns and 151 nonzeros\n",
      "Model fingerprint: 0xdca72e84\n",
      "Coefficient statistics:\n",
      "  Matrix range     [5e-01, 1e+01]\n",
      "  Objective range  [1e+00, 1e+00]\n",
      "  Bounds range     [0e+00, 0e+00]\n",
      "  RHS range        [7e-01, 7e+00]\n",
      "Presolve time: 0.01s\n",
      "Presolved: 57 rows, 41 columns, 151 nonzeros\n",
      "\n",
      "Iteration    Objective       Primal Inf.    Dual Inf.      Time\n",
      "       0      handle free variables                          0s\n",
      "      26    1.7250000e+00   0.000000e+00   0.000000e+00      0s\n",
      "\n",
      "Solved in 26 iterations and 0.02 seconds\n",
      "Optimal objective  1.725000000e+00\n"
     ]
    }
   ],
   "source": [
    "model2.write('Curve Fitting case2.lp')\n",
    "model2.optimize()"
   ]
  },
  {
   "cell_type": "code",
   "execution_count": 8,
   "metadata": {},
   "outputs": [
    {
     "name": "stdout",
     "output_type": "stream",
     "text": [
      "Linear Coefficient  =  -0.3999999999999999\n",
      "Angular Coefficient =  0.625\n"
     ]
    },
    {
     "data": {
      "text/plain": [
       "[<matplotlib.lines.Line2D at 0x25706a7c760>]"
      ]
     },
     "execution_count": 8,
     "metadata": {},
     "output_type": "execute_result"
    },
    {
     "data": {
      "image/png": "[encoded data removed]",
      "text/plain": [
       "<Figure size 432x288 with 1 Axes>"
      ]
     },
     "metadata": {
      "needs_background": "light"
     },
     "output_type": "display_data"
    }
   ],
   "source": [
    "print('Linear Coefficient  = ', a_c2.x)\n",
    "print('Angular Coefficient = ', b_c2.x)\n",
    "\n",
    "fitted_line_x = [values.x[i] for i in I]\n",
    "fitted_line_y = [b_c2.x*values.x[i] + a_c2.x for i in I]\n",
    "plt.scatter(values.x, values.y)\n",
    "plt.plot(fitted_line_x, fitted_line_y)"
   ]
  },
  {
   "cell_type": "markdown",
   "metadata": {},
   "source": [
    "### Case 3: Quadratic Line, Minimizing Absolute Deviation"
   ]
  },
  {
   "cell_type": "code",
   "execution_count": 9,
   "metadata": {},
   "outputs": [],
   "source": [
    "model3 = gp.Model('Curve Fitting case3')\n",
    "\n",
    "# add vars\n",
    "a_c3 = model3.addVar(lb=-float('inf'), ub=float('inf'),\n",
    "                  name='a_coeff',)\n",
    "b_c3 = model3.addVar(lb=-float('inf'), ub=float('inf'),\n",
    "                  name='b_coeff',)\n",
    "c_c3 = model3.addVar(lb=-float('inf'), ub=float('inf'),\n",
    "                  name='c_coeff',)\n",
    "u_c3 = model3.addVars(I,\n",
    "                  name='slack')\n",
    "v_c3 = model3.addVars(I,\n",
    "                  name='surplus')\n",
    "\n",
    "# objective function\n",
    "model3.setObjective((gp.quicksum(u_c3[i] + v_c3[i] for i in I)),\n",
    "                    GRB.MINIMIZE)\n",
    "\n",
    "# add constraints\n",
    "model3.addConstrs((c_c3*values.x[i]**2 + b_c3*values.x[i] + a_c3 + u_c3[i] - v_c3[i] == values.y[i] for i in I),\n",
    "                  name='fit')\n",
    "\n",
    "model3.update()"
   ]
  },
  {
   "cell_type": "code",
   "execution_count": 10,
   "metadata": {},
   "outputs": [
    {
     "name": "stdout",
     "output_type": "stream",
     "text": [
      "Gurobi Optimizer version 9.1.0 build v9.1.0rc0 (win64)\n",
      "Thread count: 4 physical cores, 8 logical processors, using up to 8 threads\n",
      "Optimize a model with 19 rows, 41 columns and 93 nonzeros\n",
      "Model fingerprint: 0x180f77a9\n",
      "Coefficient statistics:\n",
      "  Matrix range     [3e-01, 1e+02]\n",
      "  Objective range  [1e+00, 1e+00]\n",
      "  Bounds range     [0e+00, 0e+00]\n",
      "  RHS range        [7e-01, 7e+00]\n",
      "Presolve time: 0.01s\n",
      "Presolved: 19 rows, 41 columns, 93 nonzeros\n",
      "\n",
      "Iteration    Objective       Primal Inf.    Dual Inf.      Time\n",
      "       0      handle free variables                          0s\n",
      "      19    1.0458965e+01   0.000000e+00   0.000000e+00      0s\n",
      "\n",
      "Solved in 19 iterations and 0.02 seconds\n",
      "Optimal objective  1.045896471e+01\n"
     ]
    }
   ],
   "source": [
    "model3.write('Curve Fitting case3.lp')\n",
    "model3.optimize()"
   ]
  },
  {
   "cell_type": "code",
   "execution_count": 11,
   "metadata": {},
   "outputs": [
    {
     "name": "stdout",
     "output_type": "stream",
     "text": [
      "A Coefficient =  0.9823529411764703\n",
      "B Coefficient =  0.2945098039215688\n",
      "C Coefficient =  0.03372549019607842\n"
     ]
    },
    {
     "data": {
      "text/plain": [
       "[<matplotlib.lines.Line2D at 0x25706adeaf0>]"
      ]
     },
     "execution_count": 11,
     "metadata": {},
     "output_type": "execute_result"
    },
    {
     "data": {
      "image/png": "[encoded data removed]",
      "text/plain": [
       "<Figure size 432x288 with 1 Axes>"
      ]
     },
     "metadata": {
      "needs_background": "light"
     },
     "output_type": "display_data"
    }
   ],
   "source": [
    "print('A Coefficient = ', a_c3.x)\n",
    "print('B Coefficient = ', b_c3.x)\n",
    "print('C Coefficient = ', c_c3.x)\n",
    "\n",
    "fitted_line_x = [values.x[i] for i in I]\n",
    "fitted_line_y = [c_c3.x*values.x[i]**2 + b_c3.x*values.x[i] + a_c3.x for i in I]\n",
    "plt.scatter(values.x, values.y)\n",
    "plt.plot(fitted_line_x, fitted_line_y)"
   ]
  },
  {
   "cell_type": "markdown",
   "metadata": {},
   "source": [
    "### Case 4: Quadratic Line, Minimizing Maximum Deviation"
   ]
  },
  {
   "cell_type": "code",
   "execution_count": 12,
   "metadata": {},
   "outputs": [],
   "source": [
    "model4 = gp.Model('Curve Fitting case4')\n",
    "\n",
    "# add vars\n",
    "a_c4 = model4.addVar(lb=-float('inf'), ub=float('inf'),\n",
    "                  name='a_coeff',)\n",
    "b_c4 = model4.addVar(lb=-float('inf'), ub=float('inf'),\n",
    "                  name='b_coeff',)\n",
    "c_c4 = model4.addVar(lb=-float('inf'), ub=float('inf'),\n",
    "                  name='c_coeff',)\n",
    "u_c4 = model4.addVars(I,\n",
    "                  name='slack')\n",
    "v_c4 = model4.addVars(I,\n",
    "                  name='surplus')\n",
    "z_c4 = model4.addVar(name='max_deviation',)\n",
    "\n",
    "# objective function\n",
    "model4.setObjective((z_c4),\n",
    "                    GRB.MINIMIZE)\n",
    "\n",
    "# add constraints\n",
    "model4.addConstrs((c_c4*values.x[i]**2 + b_c4*values.x[i] + a_c4 + u_c4[i] - v_c4[i] == values.y[i] for i in I),\n",
    "                  name='fit')\n",
    "model4.addConstrs((z_c4 - u_c4[i] >= 0 for i in I),\n",
    "                  name='max_dev_u')\n",
    "model4.addConstrs((z_c4 - v_c4[i] >= 0 for i in I),\n",
    "                  name='max_dev_v')\n",
    "\n",
    "model4.update()"
   ]
  },
  {
   "cell_type": "code",
   "execution_count": 13,
   "metadata": {},
   "outputs": [
    {
     "name": "stdout",
     "output_type": "stream",
     "text": [
      "Gurobi Optimizer version 9.1.0 build v9.1.0rc0 (win64)\n",
      "Thread count: 4 physical cores, 8 logical processors, using up to 8 threads\n",
      "Optimize a model with 57 rows, 42 columns and 169 nonzeros\n",
      "Model fingerprint: 0xb52156df\n",
      "Coefficient statistics:\n",
      "  Matrix range     [3e-01, 1e+02]\n",
      "  Objective range  [1e+00, 1e+00]\n",
      "  Bounds range     [0e+00, 0e+00]\n",
      "  RHS range        [7e-01, 7e+00]\n",
      "Presolve time: 0.01s\n",
      "Presolved: 57 rows, 42 columns, 169 nonzeros\n",
      "\n",
      "Iteration    Objective       Primal Inf.    Dual Inf.      Time\n",
      "       0      handle free variables                          0s\n",
      "      16    1.4750000e+00   0.000000e+00   0.000000e+00      0s\n",
      "\n",
      "Solved in 16 iterations and 0.02 seconds\n",
      "Optimal objective  1.475000000e+00\n"
     ]
    }
   ],
   "source": [
    "model4.write('Curve Fitting case4.lp')\n",
    "model4.optimize()"
   ]
  },
  {
   "cell_type": "code",
   "execution_count": 14,
   "metadata": {},
   "outputs": [
    {
     "name": "stdout",
     "output_type": "stream",
     "text": [
      "A Coefficient =  2.475\n",
      "B Coefficient =  -0.625\n",
      "C Coefficient =  0.125\n"
     ]
    },
    {
     "data": {
      "text/plain": [
       "[<matplotlib.lines.Line2D at 0x25706b16670>]"
      ]
     },
     "execution_count": 14,
     "metadata": {},
     "output_type": "execute_result"
    },
    {
     "data": {
      "image/png": "[encoded data removed]",
      "text/plain": [
       "<Figure size 432x288 with 1 Axes>"
      ]
     },
     "metadata": {
      "needs_background": "light"
     },
     "output_type": "display_data"
    }
   ],
   "source": [
    "print('A Coefficient = ', a_c4.x)\n",
    "print('B Coefficient = ', b_c4.x)\n",
    "print('C Coefficient = ', c_c4.x)\n",
    "\n",
    "fitted_line_x = [values.x[i] for i in I]\n",
    "fitted_line_y = [c_c4.x*values.x[i]**2 + b_c4.x*values.x[i] + a_c4.x for i in I]\n",
    "plt.scatter(values.x, values.y)\n",
    "plt.plot(fitted_line_x, fitted_line_y)"
   ]
  }
 ],
 "metadata": {
  "kernelspec": {
   "display_name": "Python 3",
   "language": "python",
   "name": "python3"
  },
  "language_info": {
   "codemirror_mode": {
    "name": "ipython",
    "version": 3
   },
   "file_extension": ".py",
   "mimetype": "text/x-python",
   "name": "python",
   "nbconvert_exporter": "python",
   "pygments_lexer": "ipython3",
   "version": "3.8.6"
  }
 },
 "nbformat": 4,
 "nbformat_minor": 4
}
