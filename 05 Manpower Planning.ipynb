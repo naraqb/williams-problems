{
 "cells": [
  {
   "cell_type": "code",
   "execution_count": 1,
   "id": "favorite-mailman",
   "metadata": {},
   "outputs": [],
   "source": [
    "import pandas as pd\n",
    "import itertools as it\n",
    "import gurobipy as gp\n",
    "from gurobipy import GRB"
   ]
  },
  {
   "cell_type": "code",
   "execution_count": 2,
   "id": "finnish-queensland",
   "metadata": {},
   "outputs": [],
   "source": [
    "data1 = [2000, 1000, 500, 0,\n",
    "         1500, 1400, 2000, 2500,\n",
    "         1000, 1000, 1500, 2000]\n",
    "data2 = [0.25, 0.20, 0.10,\n",
    "         0.10, 0.05, 0.05]\n",
    "\n",
    "years = list(range(1, 4))\n",
    "categ = ['Unskilled', 'Semi', 'Skilled']\n",
    "m_req = dict(zip(it.product(categ, [0]+years), data1))\n",
    "waste = dict(zip(it.product(['less', 'more'], categ), data2))\n",
    "\n",
    "recruit_cap = dict(zip(categ, [500, 800, 500]))\n",
    "retrain_unsk_semi_cost = 400\n",
    "retrain_unsk_semi_cap  = 200\n",
    "retrain_semi_skil_cost = 500\n",
    "retrain_semi_skil_cap  = 0.25\n",
    "\n",
    "downgrad_waste = 0.5\n",
    "\n",
    "redund_unsk_pay = 200\n",
    "redund_semi_pay = 500\n",
    "\n",
    "overman_cost = dict(zip(categ, [1500, 2000, 3000]))\n",
    "overman_cap  = 150\n",
    "\n",
    "shorttime_cap  = 50\n",
    "shorttime_cost = dict(zip(categ, [500, 400, 400]))"
   ]
  },
  {
   "cell_type": "code",
   "execution_count": 41,
   "id": "protective-conspiracy",
   "metadata": {},
   "outputs": [
    {
     "name": "stdout",
     "output_type": "stream",
     "text": [
      "Gurobi Optimizer version 9.1.0 build v9.1.0rc0 (win64)\n",
      "Thread count: 4 physical cores, 8 logical processors, using up to 8 threads\n",
      "Optimize a model with 24 rows, 63 columns and 105 nonzeros\n",
      "Model fingerprint: 0xd73bbcf3\n",
      "Coefficient statistics:\n",
      "  Matrix range     [3e-01, 1e+00]\n",
      "  Objective range  [1e+00, 1e+00]\n",
      "  Bounds range     [5e+01, 8e+02]\n",
      "  RHS range        [2e+02, 3e+03]\n",
      "Presolve removed 12 rows and 35 columns\n",
      "Presolve time: 0.01s\n",
      "Presolved: 12 rows, 28 columns, 56 nonzeros\n",
      "\n",
      "Iteration    Objective       Primal Inf.    Dual Inf.      Time\n",
      "       0    8.4000000e+02   6.484375e+01   0.000000e+00      0s\n",
      "       8    8.4179688e+02   0.000000e+00   0.000000e+00      0s\n",
      "\n",
      "Solved in 8 iterations and 0.03 seconds\n",
      "Optimal objective  8.417968750e+02\n"
     ]
    }
   ],
   "source": [
    "model = gp.Model('Manpower Planning')\n",
    "\n",
    "# add vars\n",
    "\n",
    "    # total number of workers, each year\n",
    "t = model.addVars(categ, [0]+years,\n",
    "                  name='tot')\n",
    "    # people recruited, each year\n",
    "u = model.addVars(categ, years,\n",
    "                  name='rec')\n",
    "    # workers retrained, each year\n",
    "v = model.addVars(['u_semi', 'semi_s'], years,\n",
    "                  name='ret')\n",
    "    # downgraded workers, each year\n",
    "r = model.addVars(['s_semi', 's_u', 'semi_u'], years,\n",
    "                  name='down')\n",
    "    # redundant workers, each year\n",
    "w = model.addVars(categ, years,\n",
    "                  name='red')\n",
    "    # short-time workers, each year\n",
    "x = model.addVars(categ, years,\n",
    "                  name='short')\n",
    "    # overmanning, excess workers, each year\n",
    "y = model.addVars(categ, years,\n",
    "                  name='over')\n",
    "\n",
    "# set initial conditions and upper bounds\n",
    "for i in years:\n",
    "    for c in categ:\n",
    "        u[c,i].ub = recruit_cap[c]\n",
    "        x[c,i].ub = shorttime_cap\n",
    "        t[c,0] = m_req[c,0]\n",
    "        \n",
    "    v['u_semi', i].ub = retrain_unsk_semi_cap\n",
    "        \n",
    "    \n",
    "# objective function\n",
    "\n",
    "    # minimize redundancy\n",
    "model.setObjective((gp.quicksum(w[c,i] for c in categ for i in years)), GRB.MINIMIZE)\n",
    "    \n",
    "    # minimize cost\n",
    "#model.setObjective((gp.quicksum(400*v['u_semi',i] + 500*v['semi_s',i] + 200*w['Skilled',i] + 500*w['Semi',i] + 500*w['Unskilled',i] + 500*x['Skilled',i] + 400*x['Semi',i] + 400*x['Unskilled',i] + 1500*y['Skilled',i] + 2000*y['Semi',i] + 3000*y['Unskilled',i] for i in years)), GRB.MINIMIZE)\n",
    "\n",
    "# add constraints\n",
    "\n",
    "    # continuity (connect number of workers from previous year to current year)\n",
    "        # skilled\n",
    "c = 'Skilled'\n",
    "model.addConstrs((0.95*t[c,i-1] + 0.9*u[c,i]\n",
    "                + 0.95*v['semi_s',i] \n",
    "                - r['s_semi',i] - r['s_u',i] \n",
    "                - w[c,i] == t[c,i] for i in years),\n",
    "                 name='cont_skil')\n",
    "        # semi-skilled\n",
    "c = 'Semi'\n",
    "model.addConstrs((0.95*t[c,i-1] + 0.8*u[c,i]\n",
    "                + 0.95*v['u_semi',i] - v['semi_s',i]\n",
    "                + 0.5*r['s_semi',i] - r['semi_u',i] \n",
    "                - w[c,i] == t[c,i] for i in years),\n",
    "                 name='cont_semi')\n",
    "        # unskilled\n",
    "c = 'Unskilled'\n",
    "model.addConstrs((0.9*t[c,i-1] + 0.75*u[c,i]\n",
    "                - v['u_semi',i] \n",
    "                + 0.5*r['s_u',i] + 0.5*r['semi_u',i]\n",
    "                - w[c,i] == t[c,i] for i in years),\n",
    "                 name='cont_unsk')\n",
    "    \n",
    "    # retraining semi-skilled to skilled\n",
    "model.addConstrs((v['semi_s',i] - 0.25*t['Skilled',i] <= 0 for i in years),\n",
    "                 name='ret_semi')\n",
    "    \n",
    "    # overmanning limit\n",
    "model.addConstrs((gp.quicksum(y[c,i] for c in categ) <= overman_cap for i in years),\n",
    "                 name='overman')\n",
    "    \n",
    "    # workers requirements\n",
    "model.addConstrs((t[c,i] - y[c,i] - 0.5*x[c,i] == m_req[c,i] \n",
    "                  for c in categ for i in years ),\n",
    "                 name='requir')\n",
    "\n",
    "model.update()\n",
    "model.write('Manpower Planning.lp')\n",
    "model.optimize()"
   ]
  },
  {
   "cell_type": "code",
   "execution_count": 42,
   "id": "floppy-queensland",
   "metadata": {},
   "outputs": [
    {
     "name": "stdout",
     "output_type": "stream",
     "text": [
      "Objective value of 841.80\n"
     ]
    }
   ],
   "source": [
    "print('Objective value of {:.2f}'.format(model.ObjVal))"
   ]
  },
  {
   "cell_type": "code",
   "execution_count": 43,
   "id": "angry-scholar",
   "metadata": {},
   "outputs": [
    {
     "name": "stdout",
     "output_type": "stream",
     "text": [
      "Available workforce\n"
     ]
    },
    {
     "data": {
      "text/html": [
       "<div>\n",
       "<style scoped>\n",
       "    .dataframe tbody tr th:only-of-type {\n",
       "        vertical-align: middle;\n",
       "    }\n",
       "\n",
       "    .dataframe tbody tr th {\n",
       "        vertical-align: top;\n",
       "    }\n",
       "\n",
       "    .dataframe thead th {\n",
       "        text-align: right;\n",
       "    }\n",
       "</style>\n",
       "<table border=\"1\" class=\"dataframe\">\n",
       "  <thead>\n",
       "    <tr style=\"text-align: right;\">\n",
       "      <th></th>\n",
       "      <th>Unskilled</th>\n",
       "      <th>Semi</th>\n",
       "      <th>Skilled</th>\n",
       "    </tr>\n",
       "  </thead>\n",
       "  <tbody>\n",
       "    <tr>\n",
       "      <th>1</th>\n",
       "      <td>1157.03125</td>\n",
       "      <td>1442.96875</td>\n",
       "      <td>1025.0</td>\n",
       "    </tr>\n",
       "    <tr>\n",
       "      <th>2</th>\n",
       "      <td>675.0</td>\n",
       "      <td>2000.0</td>\n",
       "      <td>1500.0</td>\n",
       "    </tr>\n",
       "    <tr>\n",
       "      <th>3</th>\n",
       "      <td>175.0</td>\n",
       "      <td>2500.0</td>\n",
       "      <td>2000.0</td>\n",
       "    </tr>\n",
       "  </tbody>\n",
       "</table>\n",
       "</div>"
      ],
      "text/plain": [
       "    Unskilled        Semi Skilled\n",
       "1  1157.03125  1442.96875  1025.0\n",
       "2       675.0      2000.0  1500.0\n",
       "3       175.0      2500.0  2000.0"
      ]
     },
     "execution_count": 43,
     "metadata": {},
     "output_type": "execute_result"
    }
   ],
   "source": [
    "print('Available workforce')\n",
    "report = pd.DataFrame([], columns=categ, index=years)\n",
    "for c,i in t.keys():\n",
    "    if i>0:\n",
    "        report[c][i] = t[c,i].x\n",
    "report"
   ]
  },
  {
   "cell_type": "code",
   "execution_count": 44,
   "id": "efficient-calvin",
   "metadata": {},
   "outputs": [
    {
     "name": "stdout",
     "output_type": "stream",
     "text": [
      "Treinament plan\n"
     ]
    },
    {
     "data": {
      "text/html": [
       "<div>\n",
       "<style scoped>\n",
       "    .dataframe tbody tr th:only-of-type {\n",
       "        vertical-align: middle;\n",
       "    }\n",
       "\n",
       "    .dataframe tbody tr th {\n",
       "        vertical-align: top;\n",
       "    }\n",
       "\n",
       "    .dataframe thead th {\n",
       "        text-align: right;\n",
       "    }\n",
       "</style>\n",
       "<table border=\"1\" class=\"dataframe\">\n",
       "  <thead>\n",
       "    <tr style=\"text-align: right;\">\n",
       "      <th></th>\n",
       "      <th>u_semi</th>\n",
       "      <th>semi_s</th>\n",
       "    </tr>\n",
       "  </thead>\n",
       "  <tbody>\n",
       "    <tr>\n",
       "      <th>1</th>\n",
       "      <td>200.0</td>\n",
       "      <td>256.25</td>\n",
       "    </tr>\n",
       "    <tr>\n",
       "      <th>2</th>\n",
       "      <td>200.0</td>\n",
       "      <td>80.263158</td>\n",
       "    </tr>\n",
       "    <tr>\n",
       "      <th>3</th>\n",
       "      <td>200.0</td>\n",
       "      <td>131.578947</td>\n",
       "    </tr>\n",
       "  </tbody>\n",
       "</table>\n",
       "</div>"
      ],
      "text/plain": [
       "  u_semi      semi_s\n",
       "1  200.0      256.25\n",
       "2  200.0   80.263158\n",
       "3  200.0  131.578947"
      ]
     },
     "execution_count": 44,
     "metadata": {},
     "output_type": "execute_result"
    }
   ],
   "source": [
    "print('Treinament plan')\n",
    "report = pd.DataFrame([], columns=['u_semi', 'semi_s'], index=years)\n",
    "for c,i in v.keys():\n",
    "    if i>0:\n",
    "        report[c][i] = v[c,i].x\n",
    "report"
   ]
  },
  {
   "cell_type": "code",
   "execution_count": 45,
   "id": "industrial-headset",
   "metadata": {},
   "outputs": [
    {
     "name": "stdout",
     "output_type": "stream",
     "text": [
      "Recruitment plan\n"
     ]
    },
    {
     "data": {
      "text/html": [
       "<div>\n",
       "<style scoped>\n",
       "    .dataframe tbody tr th:only-of-type {\n",
       "        vertical-align: middle;\n",
       "    }\n",
       "\n",
       "    .dataframe tbody tr th {\n",
       "        vertical-align: top;\n",
       "    }\n",
       "\n",
       "    .dataframe thead th {\n",
       "        text-align: right;\n",
       "    }\n",
       "</style>\n",
       "<table border=\"1\" class=\"dataframe\">\n",
       "  <thead>\n",
       "    <tr style=\"text-align: right;\">\n",
       "      <th></th>\n",
       "      <th>Unskilled</th>\n",
       "      <th>Semi</th>\n",
       "      <th>Skilled</th>\n",
       "    </tr>\n",
       "  </thead>\n",
       "  <tbody>\n",
       "    <tr>\n",
       "      <th>1</th>\n",
       "      <td>0.0</td>\n",
       "      <td>0.0</td>\n",
       "      <td>0.0</td>\n",
       "    </tr>\n",
       "    <tr>\n",
       "      <th>2</th>\n",
       "      <td>0.0</td>\n",
       "      <td>649.303557</td>\n",
       "      <td>500.0</td>\n",
       "    </tr>\n",
       "    <tr>\n",
       "      <th>3</th>\n",
       "      <td>0.0</td>\n",
       "      <td>676.973684</td>\n",
       "      <td>500.0</td>\n",
       "    </tr>\n",
       "  </tbody>\n",
       "</table>\n",
       "</div>"
      ],
      "text/plain": [
       "  Unskilled        Semi Skilled\n",
       "1       0.0         0.0     0.0\n",
       "2       0.0  649.303557   500.0\n",
       "3       0.0  676.973684   500.0"
      ]
     },
     "execution_count": 45,
     "metadata": {},
     "output_type": "execute_result"
    }
   ],
   "source": [
    "print('Recruitment plan')\n",
    "report = pd.DataFrame([], columns=categ, index=years)\n",
    "for c,i in t.keys():\n",
    "    if i>0:\n",
    "        report[c][i] = u[c,i].x\n",
    "report"
   ]
  }
 ],
 "metadata": {
  "kernelspec": {
   "display_name": "Python 3",
   "language": "python",
   "name": "python3"
  },
  "language_info": {
   "codemirror_mode": {
    "name": "ipython",
    "version": 3
   },
   "file_extension": ".py",
   "mimetype": "text/x-python",
   "name": "python",
   "nbconvert_exporter": "python",
   "pygments_lexer": "ipython3",
   "version": "3.8.6"
  }
 },
 "nbformat": 4,
 "nbformat_minor": 5
}
