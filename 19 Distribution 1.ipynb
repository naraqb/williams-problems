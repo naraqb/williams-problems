{
 "cells": [
  {
   "cell_type": "code",
   "execution_count": 1,
   "id": "subjective-depth",
   "metadata": {},
   "outputs": [],
   "source": [
    "import pandas as pd\n",
    "import gurobipy as gp\n",
    "from gurobipy import GRB"
   ]
  },
  {
   "cell_type": "code",
   "execution_count": 2,
   "id": "color-essex",
   "metadata": {},
   "outputs": [],
   "source": [
    "data = [[ 0.5, None, None, None, None, None],\n",
    "        [ 0.5,  0.3, None, None, None, None],\n",
    "        [ 1.0,  0.5, None, None, None, None],\n",
    "        [ 0.2,  0.2, None, None, None, None],\n",
    "        [ 1.0,  2.0, None,  1.0, None, None],\n",
    "        [None, None,  1.5,  0.5,  1.5, None],\n",
    "        [ 1.5, None,  0.5,  0.5,  2.0,  0.2],\n",
    "        [ 2.0, None,  1.5,  1.0, None,  1.5],\n",
    "        [None, None, None,  0.5,  0.5,  0.5],\n",
    "        [ 1.0, None,  1.0, None,  1.5,  1.5]]\n",
    "\n",
    "data2 = [[ 0.5, None, None, None, None, None],\n",
    "         [ 0.5,  0.3, None, None, None, None],\n",
    "         [ 1.0,  0.5, None, None, None, None],\n",
    "         [ 0.2,  0.2, None, None, None, None],\n",
    "         [ 1.0,  2.0, None,  1.0, None, None],\n",
    "         [None, None,  1.5,  0.5,  1.5, None],\n",
    "         [ 1.5, None,  0.5,  0.5,  2.0,  0.2],\n",
    "         [ 2.0, None,  1.5,  1.0, None,  1.5],\n",
    "         [None, None, None,  0.5,  0.5,  0.5],\n",
    "         [ 1.0, None,  1.0, None,  1.5,  1.5]]\n",
    "\n",
    "CUSTOMERS = ['C1', 'C2', 'C3', 'C4', 'C5', 'C6']\n",
    "FACTORIES = ['LIVERPOOL', 'BRIGHTON'] \n",
    "DEPOTS    = ['NEWCASTLE', 'BIRMINGHAM', 'LONDON', 'EXERTER']\n",
    "\n",
    "supply_cost = pd.DataFrame(data, columns=FACTORIES+DEPOTS, index=DEPOTS+CUSTOMERS).fillna(0)\n",
    "poss_supply = {i: [j for j in DEPOTS+CUSTOMERS if supply_cost[i][j] != 0 ] for i in FACTORIES+DEPOTS}\n",
    "poss_demand = {j: [i for i in FACTORIES+DEPOTS if supply_cost[i][j] != 0 ] for j in DEPOTS+CUSTOMERS}\n",
    "connections = [(i,j) for i in poss_supply.keys() for j in poss_supply[i]]\n",
    "\n",
    "capacity  = dict(zip(FACTORIES + DEPOTS, [150000, 200000, 70000, 50000, 100000, 40000]))\n",
    "requirem  = dict(zip(CUSTOMERS, [50000, 10000, 40000, 35000, 60000, 20000]))"
   ]
  },
  {
   "cell_type": "markdown",
   "id": "checked-cherry",
   "metadata": {},
   "source": [
    "### Case 1: No prefered suppliers"
   ]
  },
  {
   "cell_type": "code",
   "execution_count": 3,
   "id": "maritime-evolution",
   "metadata": {},
   "outputs": [
    {
     "name": "stdout",
     "output_type": "stream",
     "text": [
      "Using license file C:\\Users\\Nara\\gurobi.lic\n",
      "Academic license - for non-commercial use only - expires 2021-03-12\n"
     ]
    }
   ],
   "source": [
    "model = gp.Model('10 Distribution 1 case1')\n",
    "\n",
    "# add vars\n",
    "supplyto = model.addVars(connections,\n",
    "                         name='supplyto')\n",
    "\n",
    "# objective function\n",
    "model.setObjective(gp.quicksum(supply_cost[i][j]*supplyto[i,j] for i, j in connections))\n",
    "\n",
    "# add constraints\n",
    "model.addConstrs((gp.quicksum(supplyto[i,j] for j in poss_supply[i]) <= capacity[i] for i in FACTORIES+DEPOTS),\n",
    "                 name='capacity')\n",
    "model.addConstrs((gp.quicksum(supplyto[i,j] for i in poss_demand[j]) == gp.quicksum(supplyto[j,k] for k in poss_supply[j]) for j in DEPOTS),\n",
    "                 name='depot_cap')                      # into depot == out of depot\n",
    "model.addConstrs((gp.quicksum(supplyto[i,j] for i in poss_demand[j]) >= requirem[j] for j in CUSTOMERS),\n",
    "                 name='requirement')\n",
    "\n",
    "model.update()"
   ]
  },
  {
   "cell_type": "code",
   "execution_count": 4,
   "id": "aware-negative",
   "metadata": {},
   "outputs": [
    {
     "name": "stdout",
     "output_type": "stream",
     "text": [
      "Gurobi Optimizer version 9.1.0 build v9.1.0rc0 (win64)\n",
      "Thread count: 4 physical cores, 8 logical processors, using up to 8 threads\n",
      "Optimize a model with 16 rows, 29 columns and 75 nonzeros\n",
      "Model fingerprint: 0x719b6be4\n",
      "Coefficient statistics:\n",
      "  Matrix range     [1e+00, 1e+00]\n",
      "  Objective range  [2e-01, 2e+00]\n",
      "  Bounds range     [0e+00, 0e+00]\n",
      "  RHS range        [1e+04, 2e+05]\n",
      "Presolve removed 1 rows and 1 columns\n",
      "Presolve time: 0.01s\n",
      "Presolved: 15 rows, 28 columns, 73 nonzeros\n",
      "\n",
      "Iteration    Objective       Primal Inf.    Dual Inf.      Time\n",
      "       0    0.0000000e+00   2.687500e+04   0.000000e+00      0s\n",
      "      11    1.9850000e+05   0.000000e+00   0.000000e+00      0s\n",
      "\n",
      "Solved in 11 iterations and 0.02 seconds\n",
      "Optimal objective  1.985000000e+05\n"
     ]
    }
   ],
   "source": [
    "model.write('10 Distribution 1 case1.lp')\n",
    "model.optimize()"
   ]
  },
  {
   "cell_type": "code",
   "execution_count": 5,
   "id": "healthy-present",
   "metadata": {},
   "outputs": [
    {
     "name": "stdout",
     "output_type": "stream",
     "text": [
      "Distribution cost of $198500.00\n",
      "===SELLING PLAN\n",
      "            LIVERPOOL  BRIGHTON  NEWCASTLE  BIRMINGHAM  LONDON  EXERTER\n",
      "NEWCASTLE           0         0          0           0       0        0\n",
      "BIRMINGHAM          0     50000          0           0       0        0\n",
      "LONDON              0     55000          0           0       0        0\n",
      "EXERTER         40000         0          0           0       0        0\n",
      "C1              50000         0          0           0       0        0\n",
      "C2                  0         0          0       10000       0        0\n",
      "C3                  0         0          0           0       0    40000\n",
      "C4                  0         0          0       35000       0        0\n",
      "C5                  0         0          0        5000   55000        0\n",
      "C6              20000         0          0           0       0        0\n"
     ]
    }
   ],
   "source": [
    "print('Distribution cost of ${:.2f}'.format(model.objVal))\n",
    "\n",
    "dist_solution = pd.DataFrame([], columns=FACTORIES+DEPOTS, index=DEPOTS+CUSTOMERS).fillna(0)\n",
    "for i, t in supplyto.keys():\n",
    "    dist_solution[i][t] = supplyto[i,t].x\n",
    "print('===SELLING PLAN')\n",
    "print(dist_solution)"
   ]
  },
  {
   "cell_type": "code",
   "execution_count": 6,
   "id": "coupled-eagle",
   "metadata": {},
   "outputs": [
    {
     "name": "stdout",
     "output_type": "stream",
     "text": [
      "First, which depots are operating at full capacity?\n",
      "BIRMINGHAM\n",
      "EXERTER\n",
      "\n",
      "Shadow Prices of all Depots\n",
      "depot_cap[NEWCASTLE] 0.5\n",
      "depot_cap[BIRMINGHAM] 0.3\n",
      "depot_cap[LONDON] 0.5\n",
      "depot_cap[EXERTER] 0.2\n",
      "\n",
      " Check the shadow prices of depots operating at full capacity\n"
     ]
    }
   ],
   "source": [
    "print('First, which depots are operating at full capacity?')\n",
    "for d in DEPOTS:\n",
    "    if sum([supplyto[d,j].x for j in poss_supply[d]]) == capacity[d]:\n",
    "        print(d)\n",
    "\n",
    "\n",
    "print('\\nShadow Prices of all Depots')\n",
    "for const in model.getConstrs():\n",
    "    if const.PI > 0 and const.ConstrName[:1] == 'd':\n",
    "        print(const.ConstrName, const.PI)\n",
    "        \n",
    "print('\\n Check the shadow prices of depots operating at full capacity')"
   ]
  },
  {
   "cell_type": "code",
   "execution_count": null,
   "id": "bored-guarantee",
   "metadata": {},
   "outputs": [],
   "source": [
    "print('Time to Sensitivity Analysis')\n",
    "# eu nao sei muito bem como fazer esse relatorio bem bonitinho\n",
    "#https://support.gurobi.com/hc/en-us/community/posts/360063478872-How-to-generate-sensitivity-analysis-report-in-detail\n",
    "\n",
    "for i, j in supplyto.keys():\n",
    "    print('{} to {}: {}'.format(i,j,supplyto[i,j].RC))\n",
    "    print('{} to {}: {}'.format(i,j,supplyto[i,j].SAObjUp))\n",
    "    print('{} to {}: {}'.format(i,j,supplyto[i,j].SAObjLow))"
   ]
  },
  {
   "cell_type": "markdown",
   "id": "charitable-roberts",
   "metadata": {},
   "source": [
    "### Case 2: With preferred suppliers"
   ]
  },
  {
   "cell_type": "code",
   "execution_count": 7,
   "id": "industrial-nicaragua",
   "metadata": {},
   "outputs": [],
   "source": [
    "# costs table, but customers can only receive from their preferred suppliers\n",
    "data2 = [[ 0.5, None, None, None, None, None],\n",
    "         [ 0.5,  0.3, None, None, None, None],\n",
    "         [ 1.0,  0.5, None, None, None, None],\n",
    "         [ 0.2,  0.2, None, None, None, None],\n",
    "         [ 1.0, None, None, None, None, None],\n",
    "         [None, None,  1.5, None, None, None],\n",
    "         [ 1.5, None,  0.5,  0.5,  2.0,  0.2],\n",
    "         [ 2.0, None,  1.5,  1.0, None,  1.5],\n",
    "         [None, None, None,  0.5, None, None],\n",
    "         [None, None, None, None,  1.5,  1.5]]\n",
    "\n",
    "# then, we rebuild the dictionaries based on data2\n",
    "supply_cost2 = pd.DataFrame(data2, columns=FACTORIES+DEPOTS, index=DEPOTS+CUSTOMERS).fillna(0)\n",
    "poss_supply2 = {i: [j for j in DEPOTS+CUSTOMERS if supply_cost2[i][j] != 0 ] for i in FACTORIES+DEPOTS}\n",
    "poss_demand2 = {j: [i for i in FACTORIES+DEPOTS if supply_cost2[i][j] != 0 ] for j in DEPOTS+CUSTOMERS}\n",
    "connections2 = [(i,j) for i in poss_supply2.keys() for j in poss_supply2[i]]"
   ]
  },
  {
   "cell_type": "code",
   "execution_count": 10,
   "id": "durable-field",
   "metadata": {},
   "outputs": [],
   "source": [
    "model2 = gp.Model('10 Distribution 1 case2')\n",
    "\n",
    "# add vars\n",
    "supplyto2 = model2.addVars(connections,\n",
    "                         name='supplyto')\n",
    "\n",
    "# objective function\n",
    "model2.setObjective(gp.quicksum(supply_cost[i][j]*supplyto2[i,j] for i, j in connections))\n",
    "\n",
    "# add constraints\n",
    "model2.addConstrs((gp.quicksum(supplyto2[i,j] for j in poss_supply2[i]) <= capacity[i] for i in FACTORIES+DEPOTS),\n",
    "                 name='capacity')\n",
    "model2.addConstrs((gp.quicksum(supplyto2[i,j] for i in poss_demand2[j]) == gp.quicksum(supplyto2[j,k] for k in poss_supply2[j]) for j in DEPOTS),\n",
    "                 name='depot_cap')                        # into depot == out of depot\n",
    "model2.addConstrs((gp.quicksum(supplyto2[i,j] for i in poss_demand2[j]) >= requirem[j] for j in CUSTOMERS),\n",
    "                 name='requirement')\n",
    "\n",
    "model2.update()"
   ]
  },
  {
   "cell_type": "code",
   "execution_count": 11,
   "id": "representative-brave",
   "metadata": {
    "scrolled": true
   },
   "outputs": [
    {
     "name": "stdout",
     "output_type": "stream",
     "text": [
      "Gurobi Optimizer version 9.1.0 build v9.1.0rc0 (win64)\n",
      "Thread count: 4 physical cores, 8 logical processors, using up to 8 threads\n",
      "Optimize a model with 16 rows, 29 columns and 53 nonzeros\n",
      "Model fingerprint: 0xf91f3224\n",
      "Coefficient statistics:\n",
      "  Matrix range     [1e+00, 1e+00]\n",
      "  Objective range  [2e-01, 2e+00]\n",
      "  Bounds range     [0e+00, 0e+00]\n",
      "  RHS range        [1e+04, 2e+05]\n",
      "Presolve removed 3 rows and 9 columns\n",
      "Presolve time: 0.01s\n",
      "\n",
      "Solved in 0 iterations and 0.01 seconds\n",
      "Infeasible model\n"
     ]
    }
   ],
   "source": [
    "model2.write('10 Distribution 1 case2.lp')\n",
    "model2.optimize()"
   ]
  },
  {
   "cell_type": "markdown",
   "id": "focused-image",
   "metadata": {},
   "source": [
    "Not possible to fulfill all customers preferences"
   ]
  },
  {
   "cell_type": "markdown",
   "id": "interstate-grounds",
   "metadata": {},
   "source": [
    "### Case 3: Maximize customers preferences\n",
    "It's not possible to satisfy all customers preferences, so let's try to maximize it, by finding a way where customers receive from their preferred suplliers as much as possible."
   ]
  },
  {
   "cell_type": "code",
   "execution_count": 38,
   "id": "imposed-small",
   "metadata": {},
   "outputs": [],
   "source": [
    "pref_supp = dict(zip(CUSTOMERS, [['LIVERPOOL'], ['NEWCASTLE'], [], [], ['BIRMINGHAM'], ['LONDON', 'EXERTER']]))\n",
    "w_pref = [(j,i) for i in pref_supp.keys() for j in pref_supp[i]]"
   ]
  },
  {
   "cell_type": "code",
   "execution_count": 42,
   "id": "chubby-governor",
   "metadata": {},
   "outputs": [],
   "source": [
    "model3 = gp.Model('10 Distribution 1 case3')\n",
    "\n",
    "# add vars\n",
    "supplyto3 = model3.addVars(connections,\n",
    "                         name='supplyto')\n",
    "\n",
    "# objective function\n",
    "model3.setObjectiveN(-(gp.quicksum(supplyto3[i,j] for i, j in w_pref)), 1)\n",
    "model3.setObjectiveN((gp.quicksum(supply_cost[i][j]*supplyto3[i,j] for i, j in connections)), 0)\n",
    "\n",
    "# add constraints\n",
    "model3.addConstrs((gp.quicksum(supplyto3[i,j] for j in poss_supply[i]) <= capacity[i] for i in FACTORIES+DEPOTS),\n",
    "                 name='capacity')\n",
    "model3.addConstrs((gp.quicksum(supplyto3[i,j] for i in poss_demand[j]) == gp.quicksum(supplyto3[j,k] for k in poss_supply[j]) for j in DEPOTS),\n",
    "                 name='depot_cap')                      # into depot == out of depot\n",
    "model3.addConstrs((gp.quicksum(supplyto3[i,j] for i in poss_demand[j]) >= requirem[j] for j in CUSTOMERS),\n",
    "                 name='requirement')\n",
    "\n",
    "model3.update()"
   ]
  },
  {
   "cell_type": "code",
   "execution_count": 43,
   "id": "accurate-saver",
   "metadata": {},
   "outputs": [
    {
     "name": "stdout",
     "output_type": "stream",
     "text": [
      "Gurobi Optimizer version 9.1.0 build v9.1.0rc0 (win64)\n",
      "Thread count: 4 physical cores, 8 logical processors, using up to 8 threads\n",
      "Optimize a model with 16 rows, 29 columns and 75 nonzeros\n",
      "Model fingerprint: 0x10f3bd78\n",
      "Variable types: 29 continuous, 0 integer (0 binary)\n",
      "Coefficient statistics:\n",
      "  Matrix range     [1e+00, 1e+00]\n",
      "  Objective range  [2e-01, 2e+00]\n",
      "  Bounds range     [0e+00, 0e+00]\n",
      "  RHS range        [1e+04, 2e+05]\n",
      "\n",
      "---------------------------------------------------------------------------\n",
      "Multi-objectives: starting optimization with 2 objectives (1 combined) ...\n",
      "---------------------------------------------------------------------------\n",
      "---------------------------------------------------------------------------\n",
      "\n",
      "Multi-objectives: optimize objective 1 (weighted) ...\n",
      "---------------------------------------------------------------------------\n",
      "\n",
      "Optimize a model with 16 rows, 29 columns and 75 nonzeros\n",
      "Coefficient statistics:\n",
      "  Matrix range     [1e+00, 1e+00]\n",
      "  Objective range  [2e-01, 2e+00]\n",
      "  Bounds range     [0e+00, 0e+00]\n",
      "  RHS range        [1e+04, 2e+05]\n",
      "Presolve removed 1 rows and 1 columns\n",
      "Presolve time: 0.03s\n",
      "Presolved: 15 rows, 28 columns, 73 nonzeros\n",
      "\n",
      "Iteration    Objective       Primal Inf.    Dual Inf.      Time\n",
      "       0   -2.5000000e+04   2.062500e+04   0.000000e+00      0s\n",
      "      12    1.1600000e+05   0.000000e+00   0.000000e+00      0s\n",
      "\n",
      "Solved in 12 iterations and 0.04 seconds\n",
      "Optimal objective  1.160000000e+05\n",
      "\n",
      "---------------------------------------------------------------------------\n",
      "Multi-objectives: solved in 0.04 seconds, solution count 1\n",
      "\n"
     ]
    }
   ],
   "source": [
    "model3.write('10 Distribution 1 case3.lp')\n",
    "model3.optimize()"
   ]
  },
  {
   "cell_type": "code",
   "execution_count": 45,
   "id": "traditional-stations",
   "metadata": {},
   "outputs": [
    {
     "name": "stdout",
     "output_type": "stream",
     "text": [
      "Distribution cost of $261000.00\n",
      "===DISTRIBUTION PLAN\n",
      "            LIVERPOOL  BRIGHTON  NEWCASTLE  BIRMINGHAM  LONDON  EXERTER\n",
      "NEWCASTLE       10000         0          0           0       0        0\n",
      "BIRMINGHAM          0     50000          0           0       0        0\n",
      "LONDON              0     30000          0           0       0        0\n",
      "EXERTER         40000         0          0           0       0        0\n",
      "C1              65000         0          0           0       0        0\n",
      "C2                  0         0      10000           0       0        0\n",
      "C3                  0         0          0           0       0    40000\n",
      "C4              35000         0          0           0       0        0\n",
      "C5                  0         0          0       50000   10000        0\n",
      "C6                  0         0          0           0   20000        0\n"
     ]
    }
   ],
   "source": [
    "model3.params.ObjNumber = 0\n",
    "print('Distribution cost of ${:.2f}'.format(model3.ObjNVal))\n",
    "\n",
    "dist_solution = pd.DataFrame([], columns=FACTORIES+DEPOTS, index=DEPOTS+CUSTOMERS).fillna(0)\n",
    "for i, j in supplyto3.keys():\n",
    "    dist_solution[i][j] = supplyto3[i,j].x\n",
    "print('===DISTRIBUTION PLAN')\n",
    "print(dist_solution)"
   ]
  },
  {
   "cell_type": "markdown",
   "id": "attractive-attribute",
   "metadata": {},
   "source": [
    "This solution is not the same as the book's. And probably not the \"minimum\"."
   ]
  }
 ],
 "metadata": {
  "kernelspec": {
   "display_name": "Python 3",
   "language": "python",
   "name": "python3"
  },
  "language_info": {
   "codemirror_mode": {
    "name": "ipython",
    "version": 3
   },
   "file_extension": ".py",
   "mimetype": "text/x-python",
   "name": "python",
   "nbconvert_exporter": "python",
   "pygments_lexer": "ipython3",
   "version": "3.8.6"
  }
 },
 "nbformat": 4,
 "nbformat_minor": 5
}
