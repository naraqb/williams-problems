{
 "cells": [
  {
   "cell_type": "code",
   "execution_count": 22,
   "id": "generous-threat",
   "metadata": {},
   "outputs": [],
   "source": [
    "import pandas as pd\n",
    "import itertools as it\n",
    "import gurobipy as gp\n",
    "from gurobipy import GRB"
   ]
  },
  {
   "cell_type": "code",
   "execution_count": 32,
   "id": "veterinary-vanilla",
   "metadata": {},
   "outputs": [],
   "source": [
    "def powerset(iterable):\n",
    "    s = list(iterable)\n",
    "    return it.chain.from_iterable(it.combinations(s, r) for r in range(1, len(s)+1))"
   ]
  },
  {
   "cell_type": "code",
   "execution_count": 144,
   "id": "minor-nutrition",
   "metadata": {},
   "outputs": [],
   "source": [
    "I = list(range(1, 9))\n",
    "COEFFS = [23, 21, 19, 17, 14, 13, 13, 9]\n",
    "RHS = 70\n",
    "\n",
    "perms = list(powerset(I))\n",
    "\n",
    "ceiling_candidates = []\n",
    "for p in perms:\n",
    "    if sum(COEFFS[i-1] for i in p) <= 70:\n",
    "        ceiling_candidates.append(p)\n",
    "        \n",
    "ceilings = []\n",
    "n = 1\n",
    "for c in ceiling_candidates:\n",
    "    is_not_a_subset = True\n",
    "    for s in ceiling_candidates[n:]: \n",
    "        if set(c).issubset(set(s)): \n",
    "            is_not_a_subset = False\n",
    "    if is_not_a_subset: ceilings.append(c)\n",
    "    n += 1\n",
    "    \n",
    "roof_candidates = []\n",
    "for p in perms:\n",
    "    if sum(COEFFS[i-1] for i in p) > 70:\n",
    "        roof_candidates.append(p)\n",
    "roof_candidates.reverse()\n",
    "        \n",
    "roofs = []\n",
    "n = 1\n",
    "for c in roof_candidates:\n",
    "    has_no_subset = True\n",
    "    for s in roof_candidates[n:]: \n",
    "        if set(s).issubset(set(c)): \n",
    "            has_no_subset = False\n",
    "    if has_no_subset: roofs.append(c)\n",
    "    n += 1"
   ]
  },
  {
   "cell_type": "code",
   "execution_count": 180,
   "id": "hawaiian-orientation",
   "metadata": {},
   "outputs": [],
   "source": [
    "ceilings_book = [(1, 2, 3), (1, 2, 4, 8), (1, 2, 6, 7), (1, 3, 5, 6), (2, 3, 4, 6), (2, 5, 6, 7, 8)]\n",
    "roofs_book = [(1, 2, 3, 8), (1, 2, 5, 7), (1, 3, 4, 7), (1, 5, 6, 7, 8), (2, 3, 4, 5), (3, 4, 6, 7, 8)]"
   ]
  },
  {
   "cell_type": "code",
   "execution_count": 181,
   "id": "advanced-model",
   "metadata": {
    "scrolled": false
   },
   "outputs": [
    {
     "data": {
      "text/plain": [
       "74"
      ]
     },
     "execution_count": 181,
     "metadata": {},
     "output_type": "execute_result"
    }
   ],
   "source": [
    "sum(COEFFS[i-1] for i in (1, 2, 4, 7))"
   ]
  },
  {
   "cell_type": "code",
   "execution_count": 196,
   "id": "palestinian-basics",
   "metadata": {},
   "outputs": [],
   "source": [
    "model = gp.Model('Optimizing a Constraint')\n",
    "\n",
    "# add vars\n",
    "a = model.addVars(I,\n",
    "                  name='a')\n",
    "rhs = model.addVar(name='rhs')\n",
    "\n",
    "# objective function\n",
    "model.setObjective((rhs - a[3] - a[5]))\n",
    "#model.setObjective((gp.quicksum(a[i] for i in I)))\n",
    "\n",
    "# add constraints\n",
    "model.addConstrs((gp.quicksum(a[i] for i in c) <= rhs for c in ceilings),\n",
    "                  name='ceiling')\n",
    "\n",
    "model.addConstrs((gp.quicksum(a[i] for i in r) >= rhs + 1 for r in roofs),\n",
    "                  name='roof')\n",
    "\n",
    "model.addConstrs((a[i] >= a[i+1] for i in I[:len(I)-1]))\n",
    "\n",
    "model.update()"
   ]
  },
  {
   "cell_type": "code",
   "execution_count": 197,
   "id": "optional-cincinnati",
   "metadata": {},
   "outputs": [
    {
     "name": "stdout",
     "output_type": "stream",
     "text": [
      "Gurobi Optimizer version 9.1.0 build v9.1.0rc0 (win64)\n",
      "Thread count: 4 physical cores, 8 logical processors, using up to 8 threads\n",
      "Optimize a model with 93 rows, 9 columns and 471 nonzeros\n",
      "Model fingerprint: 0x78d58881\n",
      "Coefficient statistics:\n",
      "  Matrix range     [1e+00, 1e+00]\n",
      "  Objective range  [1e+00, 1e+00]\n",
      "  Bounds range     [0e+00, 0e+00]\n",
      "  RHS range        [1e+00, 1e+00]\n",
      "Presolve time: 0.01s\n",
      "Presolved: 93 rows, 9 columns, 471 nonzeros\n",
      "\n",
      "Iteration    Objective       Primal Inf.    Dual Inf.      Time\n",
      "       0   -2.0000000e+30   4.800000e+31   2.000000e+00      0s\n",
      "      18    2.5000000e+01   0.000000e+00   0.000000e+00      0s\n",
      "\n",
      "Solved in 18 iterations and 0.02 seconds\n",
      "Optimal objective  2.500000000e+01\n"
     ]
    }
   ],
   "source": [
    "model.write('9 Optimizing a Constraint.lp')\n",
    "model.optimize()"
   ]
  },
  {
   "cell_type": "code",
   "execution_count": 268,
   "id": "standing-independence",
   "metadata": {},
   "outputs": [],
   "source": [
    "index_sign_x = [(1, ''), (2, '+'), (3, '-'), (4, '+'), (5, '+'), (6, '-'), (7, '+'), (8, '+')]\n",
    "y = [8, 7, 5, 4, 6, 3 ,1, 2]\n",
    "x_to_y = dict(zip(index_sign_x, y))\n",
    "\n",
    "for i, s in index_sign_x:\n",
    "    print('{}{:.0f}x{}'.format(s, a[x_to_y[(i,s)]].x, i), end=' ')\n",
    "print('<= {:.0f}'.format(model.ObjVal))"
   ]
  }
 ],
 "metadata": {
  "kernelspec": {
   "display_name": "Python 3",
   "language": "python",
   "name": "python3"
  },
  "language_info": {
   "codemirror_mode": {
    "name": "ipython",
    "version": 3
   },
   "file_extension": ".py",
   "mimetype": "text/x-python",
   "name": "python",
   "nbconvert_exporter": "python",
   "pygments_lexer": "ipython3",
   "version": "3.8.6"
  }
 },
 "nbformat": 4,
 "nbformat_minor": 5
}
