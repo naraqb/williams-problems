{
 "cells": [
  {
   "cell_type": "code",
   "execution_count": 1,
   "id": "tribal-manchester",
   "metadata": {},
   "outputs": [],
   "source": [
    "import pandas as pd\n",
    "import networkx as nx\n",
    "import gurobipy as gp\n",
    "from gurobipy import GRB"
   ]
  },
  {
   "cell_type": "code",
   "execution_count": 13,
   "id": "multiple-burton",
   "metadata": {},
   "outputs": [],
   "source": [
    "protein1 = {1: [2],\n",
    "            2: [1, 9],\n",
    "            3: [4, 5],\n",
    "            4: [3],\n",
    "            5: [3, 6],\n",
    "            6: [5, 7],\n",
    "            7: [6, 9],\n",
    "            8: [9],\n",
    "            9: [2, 7, 8]}\n",
    "\n",
    "protein2 = {1: [4],\n",
    "            2: [3],\n",
    "            3: [2],\n",
    "            4: [1, 6, 7],\n",
    "            5: [6], \n",
    "            6: [4, 5, 8],\n",
    "            7: [4, 8, 10],\n",
    "            8: [6, 7],\n",
    "            9: [10],\n",
    "           10: [7, 9, 11],\n",
    "           11: [10]}\n",
    "\n",
    "P1 = nx.Graph()\n",
    "P1.add_nodes_from(protein1.keys())\n",
    "P1.add_edges_from([(i, j) for i in protein1.keys() \n",
    "                          for j in protein1[i]])\n",
    "\n",
    "P2 = nx.Graph()\n",
    "P2.add_nodes_from(protein2.keys())\n",
    "P2.add_edges_from([(i, j) for i in protein2.keys() \n",
    "                          for j in protein2[i]])"
   ]
  },
  {
   "cell_type": "code",
   "execution_count": 18,
   "id": "through-candidate",
   "metadata": {},
   "outputs": [],
   "source": [
    "ij = [(i, j) for i in P1.nodes() for j in P2.nodes()]\n",
    "ijkl = [(i, j, k, l) for i, k in P1.edges() for j, l in P2.edges()]\n",
    "no_cross = [(i,j,k,l) for i,j in ij for k,l in ij if (i<k) and (l<j)]"
   ]
  },
  {
   "cell_type": "code",
   "execution_count": 53,
   "id": "under-collar",
   "metadata": {},
   "outputs": [],
   "source": [
    "model = gp.Model('Protein Comparison')\n",
    "\n",
    "# add vars\n",
    "x = model.addVars(ij,\n",
    "                  vtype=GRB.BINARY,\n",
    "                  name='x')\n",
    "\n",
    "w = model.addVars(ijkl,\n",
    "                  vtype=GRB.BINARY,\n",
    "                  name='w')\n",
    "\n",
    "# objective function\n",
    "model.setObjective((gp.quicksum(w[e] for e in ijkl)),\n",
    "                   GRB.MAXIMIZE)\n",
    "\n",
    "# add constraints\n",
    "model.addConstrs((gp.quicksum(x[(i,j)] for j in P2.nodes()) <= 1) for i in P1.nodes())\n",
    "\n",
    "model.addConstrs((gp.quicksum(x[(i,j)] for i in P1.nodes()) <= 1) for j in P2.nodes())\n",
    "\n",
    "for i, k in P1.edges():\n",
    "    for j, l in P2.edges():\n",
    "        model.addConstr((w[i,j,k,l] <= x[i,j]))\n",
    "        model.addConstr((w[i,j,k,l] <= x[k,l]))\n",
    "\n",
    "model.addConstrs((x[i,j] + x[k,l] <= 1 for i, j, k, l in no_cross))\n",
    "\n",
    "model.update()\n",
    "model.write('Protein Comparison.lp')"
   ]
  },
  {
   "cell_type": "code",
   "execution_count": 54,
   "id": "turkish-passport",
   "metadata": {},
   "outputs": [
    {
     "name": "stdout",
     "output_type": "stream",
     "text": [
      "Gurobi Optimizer version 9.1.0 build v9.1.0rc0 (win64)\n",
      "Thread count: 4 physical cores, 8 logical processors, using up to 8 threads\n",
      "Optimize a model with 2160 rows, 179 columns and 4478 nonzeros\n",
      "Model fingerprint: 0xfa76410d\n",
      "Variable types: 0 continuous, 179 integer (179 binary)\n",
      "Coefficient statistics:\n",
      "  Matrix range     [1e+00, 1e+00]\n",
      "  Objective range  [1e+00, 1e+00]\n",
      "  Bounds range     [1e+00, 1e+00]\n",
      "  RHS range        [1e+00, 1e+00]\n",
      "Found heuristic solution: objective -0.0000000\n",
      "Presolve removed 1940 rows and 66 columns\n",
      "Presolve time: 0.05s\n",
      "Presolved: 220 rows, 113 columns, 1692 nonzeros\n",
      "Found heuristic solution: objective 2.0000000\n",
      "Variable types: 0 continuous, 113 integer (113 binary)\n",
      "\n",
      "Root relaxation: objective 6.750000e+00, 167 iterations, 0.01 seconds\n",
      "\n",
      "    Nodes    |    Current Node    |     Objective Bounds      |     Work\n",
      " Expl Unexpl |  Obj  Depth IntInf | Incumbent    BestBd   Gap | It/Node Time\n",
      "\n",
      "     0     0    6.75000    0   43    2.00000    6.75000   238%     -    0s\n",
      "H    0     0                       3.0000000    6.75000   125%     -    0s\n",
      "H    0     0                       4.0000000    6.75000  68.8%     -    0s\n",
      "H    0     0                       5.0000000    6.75000  35.0%     -    0s\n",
      "     0     0     cutoff    0         5.00000    5.00000  0.00%     -    0s\n",
      "\n",
      "Cutting planes:\n",
      "  Gomory: 5\n",
      "  Zero half: 6\n",
      "  RLT: 14\n",
      "\n",
      "Explored 1 nodes (283 simplex iterations) in 0.16 seconds\n",
      "Thread count was 8 (of 8 available processors)\n",
      "\n",
      "Solution count 5: 5 4 3 ... -0\n",
      "\n",
      "Optimal solution found (tolerance 1.00e-04)\n",
      "Best objective 5.000000000000e+00, best bound 5.000000000000e+00, gap 0.0000%\n"
     ]
    }
   ],
   "source": [
    "model.optimize()"
   ]
  },
  {
   "cell_type": "code",
   "execution_count": 61,
   "id": "center-short",
   "metadata": {},
   "outputs": [
    {
     "name": "stdout",
     "output_type": "stream",
     "text": [
      "Maximum number of edges matched: 5.0\n",
      "Edge (1,2) of Protein 1 paired with (2,3) of Protein 2\n",
      "Edge (3,4) of Protein 1 paired with (4,6) of Protein 2\n",
      "Edge (3,5) of Protein 1 paired with (4,7) of Protein 2\n",
      "Edge (5,6) of Protein 1 paired with (7,10) of Protein 2\n",
      "Edge (6,7) of Protein 1 paired with (10,11) of Protein 2\n"
     ]
    }
   ],
   "source": [
    "print('Maximum number of edges matched: {}'.format(model.objVal))\n",
    "\n",
    "for i,j,k,l in w:\n",
    "    if w[i,j,k,l].x > 0:\n",
    "        print('Edge ({},{}) of Protein 1 paired with ({},{}) of Protein 2'.format(i,k,j,l))"
   ]
  },
  {
   "cell_type": "code",
   "execution_count": null,
   "id": "excessive-safety",
   "metadata": {},
   "outputs": [],
   "source": []
  }
 ],
 "metadata": {
  "kernelspec": {
   "display_name": "Python 3",
   "language": "python",
   "name": "python3"
  },
  "language_info": {
   "codemirror_mode": {
    "name": "ipython",
    "version": 3
   },
   "file_extension": ".py",
   "mimetype": "text/x-python",
   "name": "python",
   "nbconvert_exporter": "python",
   "pygments_lexer": "ipython3",
   "version": "3.8.6"
  }
 },
 "nbformat": 4,
 "nbformat_minor": 5
}
