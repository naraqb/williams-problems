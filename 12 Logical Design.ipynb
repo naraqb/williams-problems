{
 "cells": [
  {
   "cell_type": "code",
   "execution_count": 1,
   "id": "civilian-hawaii",
   "metadata": {},
   "outputs": [],
   "source": [
    "import pandas as pd\n",
    "import gurobipy as gp\n",
    "from gurobipy import GRB"
   ]
  },
  {
   "cell_type": "code",
   "execution_count": 12,
   "id": "valued-cleanup",
   "metadata": {},
   "outputs": [],
   "source": [
    "data = [[0, 0, 1],\n",
    "        [0, 1, 0],\n",
    "        [1, 0, 0],\n",
    "        [1, 1, 0]]\n",
    "\n",
    "data2 = [[0, 0, 0],\n",
    "         [0, 1, 1],\n",
    "         [1, 0, 1],\n",
    "         [1, 1, 0]]\n",
    "\n",
    "data3 = [[2, 3, 0],\n",
    "         [4, 5, 1],\n",
    "         [6, 7, 1],\n",
    "         [0, 0, 2],\n",
    "         [0, 0, 2],\n",
    "         [0, 0, 3],\n",
    "         [0, 0, 3]]\n",
    "\n",
    "rows = list(range(1,5))\n",
    "gates = list(range(1,8))\n",
    "\n",
    "nor_tt  = pd.DataFrame(data, columns=['A', 'B', 'OUT'], index=rows)\n",
    "req_tt  = pd.DataFrame(data2, columns=['A', 'B', 'OUT'], index=rows)\n",
    "max_net = pd.DataFrame(data3, columns=['GATEinA', 'GATEinB', 'GATEout'], index=gates)"
   ]
  },
  {
   "cell_type": "code",
   "execution_count": 44,
   "id": "little-behalf",
   "metadata": {},
   "outputs": [],
   "source": [
    "model = gp.Model('Logical Design')\n",
    "\n",
    "# add vars\n",
    "s = model.addVars(gates,\n",
    "                  vtype=GRB.BINARY,\n",
    "                  name='s')\n",
    "tA = model.addVars(gates,\n",
    "                   vtype=GRB.BINARY,\n",
    "                   name='tiA')\n",
    "tB = model.addVars(gates,\n",
    "                   vtype=GRB.BINARY,\n",
    "                   name='tiB')\n",
    "x = model.addVars(gates, rows,\n",
    "                  vtype=GRB.BINARY,\n",
    "                  name='x')\n",
    "\n",
    "s[1].lb = 1             # at least gate 1 must exists\n",
    "x[1, 1].ub = 0\n",
    "x[1, 2].lb = 1              # set the desired outputs\n",
    "x[1, 3].lb = 1              # of gate 1, as the problem\n",
    "x[1, 4].ub = 0              # requires\n",
    "\n",
    "# obj function\n",
    "model.setObjective(gp.quicksum(s))\n",
    "\n",
    "# add constraints\n",
    "model.addConstrs((s[i] - tA[i] >= 0 for i in gates),\n",
    "                 name='if_exists_then_inputA_poss')\n",
    "\n",
    "model.addConstrs((s[i] - tB[i] >= 0 for i in gates),\n",
    "                 name='if_exists_then_inputB_poss')\n",
    "\n",
    "model.addConstrs((s[i] - x[i, r] >= 0 for i in gates for r in rows),\n",
    "                 name='if_output_then_exists')\n",
    "\n",
    "model.addConstrs((s[max_net['GATEinA'][i]] + s[max_net['GATEinB'][i]] + tA[i] + tB[i] <= 2 for i in gates[:3]),\n",
    "                 name='total_inputs')\n",
    "\n",
    "# logic constraints\n",
    "for i in gates[:3]:\n",
    "    model.addConstrs(x[max_net['GATEinA'][i], r] + x[i, r] <= 1 for r in rows)\n",
    "    model.addConstrs(x[max_net['GATEinB'][i], r] + x[i, r] <= 1 for r in rows)\n",
    "    \n",
    "for i in gates:\n",
    "    model.addConstrs(nor_tt['A'][r]*tA[i] + x[i, r] <= 1 for r in rows)\n",
    "    model.addConstrs(nor_tt['B'][r]*tB[i] + x[i, r] <= 1 for r in rows)\n",
    "    \n",
    "for i in gates[3:]:\n",
    "    model.addConstrs(nor_tt['A'][r]*tA[i] \n",
    "                     + nor_tt['B'][r]*tB[i] \n",
    "                     + x[i, r] \n",
    "                     - s[i] >= 0 for r in rows)\n",
    "    \n",
    "for i in gates[:3]:\n",
    "    model.addConstrs(nor_tt['A'][r]*tA[i] \n",
    "                     + nor_tt['B'][r]*tB[i] \n",
    "                     + x[max_net['GATEinA'][i], r]\n",
    "                     + x[max_net['GATEinB'][i], r]\n",
    "                     + x[i, r] \n",
    "                     - s[i] >= 0 for r in rows)"
   ]
  },
  {
   "cell_type": "code",
   "execution_count": 45,
   "id": "raising-monroe",
   "metadata": {},
   "outputs": [
    {
     "name": "stdout",
     "output_type": "stream",
     "text": [
      "Gurobi Optimizer version 9.1.0 build v9.1.0rc0 (win64)\n",
      "Thread count: 4 physical cores, 8 logical processors, using up to 8 threads\n",
      "Optimize a model with 153 rows, 49 columns and 336 nonzeros\n",
      "Model fingerprint: 0x1ef526a6\n",
      "Variable types: 0 continuous, 49 integer (49 binary)\n",
      "Coefficient statistics:\n",
      "  Matrix range     [1e+00, 1e+00]\n",
      "  Objective range  [1e+00, 1e+00]\n",
      "  Bounds range     [1e+00, 1e+00]\n",
      "  RHS range        [1e+00, 2e+00]\n",
      "Found heuristic solution: objective 5.0000000\n",
      "Presolve removed 153 rows and 49 columns\n",
      "Presolve time: 0.00s\n",
      "Presolve: All rows and columns removed\n",
      "\n",
      "Explored 0 nodes (0 simplex iterations) in 0.02 seconds\n",
      "Thread count was 1 (of 8 available processors)\n",
      "\n",
      "Solution count 1: 5 \n",
      "\n",
      "Optimal solution found (tolerance 1.00e-04)\n",
      "Best objective 5.000000000000e+00, best bound 5.000000000000e+00, gap 0.0000%\n"
     ]
    }
   ],
   "source": [
    "model.write('Logical Design.lp')\n",
    "model.optimize()"
   ]
  },
  {
   "cell_type": "code",
   "execution_count": 50,
   "id": "suspended-monthly",
   "metadata": {},
   "outputs": [
    {
     "name": "stdout",
     "output_type": "stream",
     "text": [
      "Existent gates\n",
      "Gate 1\n",
      "\tInputs A = 0.0, and B = 0.0\n",
      "Gate 2\n",
      "\tInputs A = 1.0, and B = 1.0\n",
      "Gate 3\n",
      "\tInputs A = 0.0, and B = 0.0\n",
      "Gate 6\n",
      "\tInputs A = 0.0, and B = 1.0\n",
      "Gate 7\n",
      "\tInputs A = 1.0, and B = 0.0\n"
     ]
    }
   ],
   "source": [
    "print('Existent gates')\n",
    "for i in gates:\n",
    "    if s[i].x > 0:\n",
    "        print('Gate {}'.format(i))\n",
    "        print('\\tInputs A = {}, and B = {}'.format(tA[i].x, tB[i].x))"
   ]
  },
  {
   "cell_type": "code",
   "execution_count": null,
   "id": "armed-viking",
   "metadata": {},
   "outputs": [],
   "source": []
  }
 ],
 "metadata": {
  "kernelspec": {
   "display_name": "Python 3",
   "language": "python",
   "name": "python3"
  },
  "language_info": {
   "codemirror_mode": {
    "name": "ipython",
    "version": 3
   },
   "file_extension": ".py",
   "mimetype": "text/x-python",
   "name": "python",
   "nbconvert_exporter": "python",
   "pygments_lexer": "ipython3",
   "version": "3.8.6"
  }
 },
 "nbformat": 4,
 "nbformat_minor": 5
}
