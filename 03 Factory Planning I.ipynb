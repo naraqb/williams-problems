{
 "cells": [
  {
   "cell_type": "code",
   "execution_count": 1,
   "metadata": {},
   "outputs": [],
   "source": [
    "import pandas as pd\n",
    "import gurobipy as gp\n",
    "from gurobipy import GRB"
   ]
  },
  {
   "cell_type": "code",
   "execution_count": 49,
   "metadata": {},
   "outputs": [],
   "source": [
    "data1 = [[ 0.5,  0.7, None, None,  0.3,  0.2,  0.5],\n",
    "         [ 0.1,  0.2, None, 0.3 , None,  0.6, None],\n",
    "         [ 0.2, None,  0.8, None, None, None, 0.6 ],\n",
    "         [0.05, 0.03, None, 0.07,  0.1, None, 0.08],\n",
    "         [ None, None, 0.01, None, 0.05, None, 0.05]]\n",
    "data2 = [[500, 1000, 300, 300,  800, 200, 100],\n",
    "         [600,  500, 200,   0,  400, 300, 150],\n",
    "         [300,  600,   0,   0,  500, 400, 100],\n",
    "         [200,  300, 400, 500,  200,   0, 100],\n",
    "         [  0,  100, 500, 100, 1000, 300,   0],\n",
    "         [500,  500, 100, 300, 1100, 500,  60]]\n",
    "data3 = [[3, 2, 3, 1, 1],\n",
    "         [4, 2, 1, 1, 1],\n",
    "         [4, 2, 3, 0, 1],\n",
    "         [4, 1, 3, 1, 1],\n",
    "         [3, 1, 3, 1, 1],\n",
    "         [4, 2, 2, 1, 0]]\n",
    "\n",
    "PRODS = ['PROD1', 'PROD2', 'PROD3', 'PROD4', 'PROD5', 'PROD6', 'PROD7']\n",
    "MONTHS = ['JAN', 'FEB', 'MAR', 'APR', 'MAY', 'JUN']\n",
    "MACHINES = ['grinder', 'v_driller', 'h_driller', 'borer', 'planer']\n",
    "PROCESSES = ['grinding', 'v_drilling', 'h_drilling', 'boring', 'planing']\n",
    "PREV_MONTH = {'JAN': 'INITIAL', \n",
    "              'FEB': 'JAN',\n",
    "              'MAR': 'FEB',\n",
    "              'APR': 'MAR',\n",
    "              'MAY': 'APR',\n",
    "              'JUN': 'MAY'}\n",
    "\n",
    "req_proc = pd.DataFrame(data1, columns=PRODS, index=MACHINES)\n",
    "mark_lim = pd.DataFrame(data2, columns=PRODS, index=MONTHS)\n",
    "avail_mac = pd.DataFrame(data3, columns=MACHINES, index=MONTHS)\n",
    "contr_profit = dict(zip(PRODS, [10, 6, 8, 4, 11, 9, 3]))\n",
    "\n",
    "storage_cost   = 0.5\n",
    "storage_limit  = 100\n",
    "shift_length   = 8\n",
    "n_of_shifts    = 2\n",
    "days_per_month = 24"
   ]
  },
  {
   "cell_type": "code",
   "execution_count": 50,
   "metadata": {
    "scrolled": true
   },
   "outputs": [],
   "source": [
    "model = gp.Model('Factory Planning I')\n",
    "\n",
    "# add vars\n",
    "make = model.addVars(PRODS, MONTHS,\n",
    "                     name='make')\n",
    "sell = model.addVars(PRODS, MONTHS,\n",
    "                     name='sell')\n",
    "store = model.addVars(PRODS, MONTHS+['INITIAL'],\n",
    "                       name='store')\n",
    "\n",
    "# set upper and lower bounds of \"store\" variables\n",
    "for i in PRODS:\n",
    "    store[i,'INITIAL'].setAttr('ub', 0.0)\n",
    "    store[i,'INITIAL'].setAttr('lb', 0.0)\n",
    "    store[i,'JUN'].setAttr('ub', 50.0)\n",
    "    store[i,'JUN'].setAttr('lb', 50.0)\n",
    "    \n",
    "# objective function\n",
    "model.setObjective(gp.quicksum(contr_profit[i]*sell[i,t] - storage_cost*store[i,t] for i in PRODS for t in MONTHS),\n",
    "                    GRB.MAXIMIZE)\n",
    "\n",
    "# add constraints\n",
    "model.addConstrs((sell[i,t] <= mark_lim[i][t] for i in PRODS for t in MONTHS),\n",
    "                  name='market_lim')\n",
    "model.addConstrs((store[i,t] <= 100 for i in PRODS for t in MONTHS),\n",
    "                  name='storage_lim')\n",
    "model.addConstrs((make[i,t] + store[i,PREV_MONTH[t]] - sell[i,t] - store[i,t] == 0 for i in PRODS for t in MONTHS),\n",
    "                  name='storage_link')\n",
    "model.addConstrs((gp.quicksum(req_proc[i][m]*make[i,t] for i in PRODS) <= n_of_shifts*shift_length*days_per_month*avail_mac[m][t] for t in MONTHS for m in MACHINES),\n",
    "                  name='mac_lim')\n",
    "\n",
    "model.update()"
   ]
  },
  {
   "cell_type": "code",
   "execution_count": 51,
   "metadata": {},
   "outputs": [
    {
     "name": "stdout",
     "output_type": "stream",
     "text": [
      "Gurobi Optimizer version 9.1.0 build v9.1.0rc0 (win64)\n",
      "Thread count: 4 physical cores, 8 logical processors, using up to 8 threads\n",
      "Optimize a model with 156 rows, 133 columns and 372 nonzeros\n",
      "Model fingerprint: 0x593db255\n",
      "Coefficient statistics:\n",
      "  Matrix range     [1e-02, 1e+00]\n",
      "  Objective range  [5e-01, 1e+01]\n",
      "  Bounds range     [5e+01, 5e+01]\n",
      "  RHS range        [6e+01, 2e+03]\n",
      "Presolve removed 151 rows and 117 columns\n",
      "Presolve time: 0.01s\n",
      "Presolved: 5 rows, 16 columns, 21 nonzeros\n",
      "\n",
      "Iteration    Objective       Primal Inf.    Dual Inf.      Time\n",
      "       0    1.2466500e+05   3.640000e+02   0.000000e+00      0s\n",
      "Extra simplex iterations after uncrush: 2\n",
      "       4    9.3715179e+04   0.000000e+00   0.000000e+00      0s\n",
      "\n",
      "Solved in 4 iterations and 0.02 seconds\n",
      "Optimal objective  9.371517857e+04\n"
     ]
    }
   ],
   "source": [
    "model.write('Factory Planning I.lp')\n",
    "model.optimize()"
   ]
  },
  {
   "cell_type": "code",
   "execution_count": 52,
   "metadata": {
    "scrolled": false
   },
   "outputs": [
    {
     "name": "stdout",
     "output_type": "stream",
     "text": [
      "Profit of $93715.18\n",
      "===SELLING PLAN\n",
      "     PROD1  PROD2  PROD3  PROD4  PROD5  PROD6  PROD7\n",
      "JAN    500    888    300    300    800    200      0\n",
      "FEB    600    500    200      0    400    300    150\n",
      "MAR    100    100      0      0    100    400    100\n",
      "APR    200    300    400    500    200      0    100\n",
      "MAY      0    100    500    100   1000    300      0\n",
      "JUN    500    500     50    300     50    500     50\n",
      "===PRODUCE PLAN\n",
      "     PROD1  PROD2  PROD3  PROD4  PROD5  PROD6  PROD7\n",
      "JAN    500    888    382    300    800    200      0\n",
      "FEB    700    600    117      0    500    300    250\n",
      "MAR      0      0      0      0      0    400      0\n",
      "APR    200    300    400    500    200      0    100\n",
      "MAY      0    100    600    100   1100    300    100\n",
      "JUN    550    550      0    350      0    550      0\n",
      "===STORAGE PLAN\n",
      "     PROD1  PROD2  PROD3  PROD4  PROD5  PROD6  PROD7\n",
      "JAN      0      0     82      0      0      0      0\n",
      "FEB    100    100      0      0    100      0    100\n",
      "MAR      0      0      0      0      0      0      0\n",
      "APR      0      0      0      0      0      0      0\n",
      "MAY      0      0    100      0    100      0    100\n",
      "JUN     50     50     50     50     50     50     50\n"
     ]
    }
   ],
   "source": [
    "print('Profit of ${:.2f}'.format(model.objVal))\n",
    "\n",
    "sell_solution = pd.DataFrame([], columns=PRODS, index=MONTHS)\n",
    "sell_solution = sell_solution.fillna(0)\n",
    "for i, t in sell.keys():\n",
    "    sell_solution[i][t] = sell[i,t].x\n",
    "print('===SELLING PLAN')\n",
    "print(sell_solution)\n",
    "\n",
    "make_solution = pd.DataFrame([], columns=PRODS, index=MONTHS)\n",
    "make_solution = make_solution.fillna(0)\n",
    "for i, t in make.keys():\n",
    "    make_solution[i][t] = make[i,t].x\n",
    "print('===PRODUCE PLAN')\n",
    "print(make_solution)\n",
    "\n",
    "store_solution = pd.DataFrame([], columns=PRODS, index=['INITIAL']+MONTHS)\n",
    "store_solution = store_solution.fillna(0)\n",
    "for i, t in store.keys():\n",
    "    store_solution[i][t] = store[i,t].x\n",
    "print('===STORAGE PLAN')\n",
    "print(store_solution[1:])"
   ]
  },
  {
   "cell_type": "code",
   "execution_count": 87,
   "metadata": {},
   "outputs": [
    {
     "name": "stdout",
     "output_type": "stream",
     "text": [
      "Shadow Prices of Machines Capacities\n",
      "mac_lim[JAN,grinder] 8.571428571428571\n",
      "mac_lim[FEB,h_driller] 0.625\n",
      "mac_lim[MAR,borer] 200.0\n",
      "mac_lim[JUN,planer] 800.0\n"
     ]
    }
   ],
   "source": [
    "print('Shadow Prices of Machines Capacities')\n",
    "\n",
    "for const in model.getConstrs():\n",
    "    if const.PI > 0 and const.ConstrName[:7] == 'mac_lim':\n",
    "        print(const.ConstrName, const.PI)"
   ]
  },
  {
   "cell_type": "code",
   "execution_count": 80,
   "metadata": {},
   "outputs": [
    {
     "name": "stdout",
     "output_type": "stream",
     "text": [
      "Reduced Costs\n",
      "PROD7 JAN -1.2857142857142856\n"
     ]
    }
   ],
   "source": [
    "print('Reduced Costs')\n",
    "for i,t in sell.keys():\n",
    "    if sell[i,t].RC < 0:\n",
    "        print(i, t, sell[i,t].RC)"
   ]
  }
 ],
 "metadata": {
  "kernelspec": {
   "display_name": "Python 3",
   "language": "python",
   "name": "python3"
  },
  "language_info": {
   "codemirror_mode": {
    "name": "ipython",
    "version": 3
   },
   "file_extension": ".py",
   "mimetype": "text/x-python",
   "name": "python",
   "nbconvert_exporter": "python",
   "pygments_lexer": "ipython3",
   "version": "3.8.6"
  }
 },
 "nbformat": 4,
 "nbformat_minor": 4
}
