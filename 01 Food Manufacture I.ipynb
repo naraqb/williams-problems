{
 "cells": [
  {
   "cell_type": "code",
   "execution_count": 1,
   "metadata": {},
   "outputs": [],
   "source": [
    "import pandas as pd\n",
    "import gurobipy as gp\n",
    "from gurobipy import GRB"
   ]
  },
  {
   "cell_type": "code",
   "execution_count": 2,
   "metadata": {},
   "outputs": [],
   "source": [
    "data = [[110, 120, 130, 110, 115],\n",
    "        [130, 130, 110,  90, 115],\n",
    "        [110, 140, 130, 100,  95],\n",
    "        [120, 110, 120, 120, 125],\n",
    "        [100, 120, 150, 110, 105],\n",
    "        [ 90, 100, 140,  80, 135]]\n",
    "\n",
    "VEG = ['VEG1', 'VEG2']\n",
    "NVEG = ['OIL1', 'OIL2', 'OIL3']\n",
    "OILS = VEG + NVEG\n",
    "MONTHS = ['JAN', 'FEB', 'MAR', 'APR', 'MAY', 'JUN']\n",
    "PREV_MONTH = {'JAN': 'INITIAL', \n",
    "              'FEB': 'JAN',\n",
    "              'MAR': 'FEB',\n",
    "              'APR': 'MAR',\n",
    "              'MAY': 'APR',\n",
    "              'JUN': 'MAY'}\n",
    "\n",
    "costs = pd.DataFrame(data, columns=OILS, index=MONTHS)\n",
    "hardness = dict(zip(OILS, [8.8, 6.1, 2.0, 4.2, 5.0]))\n",
    "\n",
    "product_price  = 150\n",
    "storage_cost   = 5\n",
    "storage_limit  = 1000\n",
    "veg_ref_limit  = 200\n",
    "nveg_ref_limit = 250\n",
    "upper_hardness = 6\n",
    "lower_hardness = 3"
   ]
  },
  {
   "cell_type": "code",
   "execution_count": 3,
   "metadata": {},
   "outputs": [
    {
     "name": "stdout",
     "output_type": "stream",
     "text": [
      "Academic license - for non-commercial use only - expires 2021-05-07\n",
      "Using license file C:\\Users\\naraq\\gurobi.lic\n"
     ]
    }
   ],
   "source": [
    "model1 = gp.Model('Food Manufacture I')\n",
    "\n",
    "# add vars\n",
    "buy = model1.addVars(OILS, MONTHS,\n",
    "                     name='buy')\n",
    "use = model1.addVars(OILS, MONTHS,\n",
    "                     name='use')\n",
    "store = model1.addVars(OILS, MONTHS+['INITIAL'],\n",
    "                       name='store')\n",
    "for i in OILS:\n",
    "    store[i,'INITIAL'].setAttr('ub', 500.0)\n",
    "    store[i,'INITIAL'].setAttr('lb', 500.0)\n",
    "    store[i,'JUN'].setAttr('ub', 500.0)\n",
    "    store[i,'JUN'].setAttr('lb', 500.0)\n",
    "    \n",
    "produce = model1.addVars(MONTHS,\n",
    "                         name='produce')\n",
    "\n",
    "# objective function\n",
    "model1.setObjective(gp.quicksum(product_price*produce[t] - \n",
    "                                gp.quicksum(costs[i][t]*buy[i,t]+storage_cost*store[i,t] for i in OILS) for t in MONTHS),\n",
    "                    GRB.MAXIMIZE)\n",
    "\n",
    "# add constraints\n",
    "model1.addConstrs((gp.quicksum(use[i,t] for i in VEG) <= veg_ref_limit for t in MONTHS),\n",
    "                  name='refine_veg')\n",
    "model1.addConstrs((gp.quicksum(use[i,t] for i in NVEG) <= nveg_ref_limit for t in MONTHS),\n",
    "                  name='refine_nveg')\n",
    "model1.addConstrs((gp.quicksum(use[i,t] for i in OILS) - produce[t] == 0 for t in MONTHS),\n",
    "                  name='mass_conservation')\n",
    "model1.addConstrs((gp.quicksum(hardness[i]*use[i,t] for i in OILS) - upper_hardness*produce[t] <= 0 for t in MONTHS),\n",
    "                  name='upper_hardness')\n",
    "model1.addConstrs((gp.quicksum(hardness[i]*use[i,t] for i in OILS) - lower_hardness*produce[t] >= 0 for t in MONTHS),\n",
    "                  name='lower_hardness')\n",
    "model1.addConstrs((buy[i,t] + store[i,PREV_MONTH[t]] - use[i,t] - store[i,t] == 0 for i in OILS for t in MONTHS),\n",
    "                  name='storage_link')\n",
    "model1.addConstrs((store[i,t] <= 1000 for i in OILS for t in MONTHS),\n",
    "                  name='storage_limit')\n",
    "model1.update()"
   ]
  },
  {
   "cell_type": "code",
   "execution_count": 4,
   "metadata": {},
   "outputs": [
    {
     "name": "stdout",
     "output_type": "stream",
     "text": [
      "Gurobi Optimizer version 9.1.1 build v9.1.1rc0 (win64)\n",
      "Thread count: 6 physical cores, 12 logical processors, using up to 12 threads\n",
      "Optimize a model with 90 rows, 101 columns and 288 nonzeros\n",
      "Model fingerprint: 0xf8dc0d1c\n",
      "Coefficient statistics:\n",
      "  Matrix range     [1e+00, 9e+00]\n",
      "  Objective range  [5e+00, 2e+02]\n",
      "  Bounds range     [5e+02, 5e+02]\n",
      "  RHS range        [2e+02, 1e+03]\n",
      "Presolve removed 36 rows and 16 columns\n",
      "Presolve time: 0.01s\n",
      "Presolved: 54 rows, 85 columns, 200 nonzeros\n",
      "\n",
      "Iteration    Objective       Primal Inf.    Dual Inf.      Time\n",
      "       0    3.8475779e+05   1.550637e+03   0.000000e+00      0s\n",
      "      39    1.0784259e+05   0.000000e+00   0.000000e+00      0s\n",
      "\n",
      "Solved in 39 iterations and 0.01 seconds\n",
      "Optimal objective  1.078425926e+05\n"
     ]
    }
   ],
   "source": [
    "model1.write('Food Manufacture I.lp')\n",
    "model1.optimize()"
   ]
  },
  {
   "cell_type": "code",
   "execution_count": 5,
   "metadata": {},
   "outputs": [
    {
     "name": "stdout",
     "output_type": "stream",
     "text": [
      "Profit of $107842.59\n",
      "===PRODUCTION PLAN\n",
      "     PRODUCE\n",
      "JAN      450\n",
      "FEB      450\n",
      "MAR      450\n",
      "APR      450\n",
      "MAY      450\n",
      "JUN      450\n",
      "===BUYING PLAN\n",
      "     VEG1  VEG2  OIL1  OIL2  OIL3\n",
      "JAN     0     0     0     0     0\n",
      "FEB     0     0     0   250     0\n",
      "MAR     0     0     0     0     0\n",
      "APR     0     0     0     0     0\n",
      "MAY     0     0     0     0   500\n",
      "JUN   659   540     0   750     0\n",
      "===REFINING PLAN\n",
      "     VEG1  VEG2  OIL1  OIL2  OIL3\n",
      "JAN    96   103     0   250     0\n",
      "FEB   159    40     0   250     0\n",
      "MAR    85   114     0     0   250\n",
      "APR     0   200     0     0   250\n",
      "MAY   159    40     0   250     0\n",
      "JUN   159    40     0   250     0\n",
      "===STORAGE PLAN\n",
      "     VEG1  VEG2  OIL1  OIL2  OIL3\n",
      "JAN   403   396   500   250   500\n",
      "FEB   244   355   500   250   500\n",
      "MAR   159   240   500   250   250\n",
      "APR   159    40   500   250     0\n",
      "MAY     0     0   500     0   500\n",
      "JUN   500   500   500   500   500\n"
     ]
    }
   ],
   "source": [
    "print('Profit of ${:.2f}'.format(model1.objVal))\n",
    "produce_solution = pd.DataFrame([], columns=['PRODUCE'], index=MONTHS)\n",
    "produce_solution = produce_solution.fillna(0)\n",
    "for t in produce.keys():\n",
    "    produce_solution['PRODUCE'][t] = produce[t].x\n",
    "print('===PRODUCTION PLAN')\n",
    "print(produce_solution)\n",
    "\n",
    "buy_solution = pd.DataFrame([], columns=OILS, index=MONTHS)\n",
    "buy_solution = buy_solution.fillna(0)\n",
    "for i, t in buy.keys():\n",
    "    buy_solution[i][t] = buy[i,t].x\n",
    "print('===BUYING PLAN')\n",
    "print(buy_solution)\n",
    "\n",
    "use_solution = pd.DataFrame([], columns=OILS, index=MONTHS)\n",
    "use_solution = use_solution.fillna(0)\n",
    "for i, t in use.keys():\n",
    "    use_solution[i][t] = use[i,t].x\n",
    "print('===REFINING PLAN')\n",
    "print(use_solution)\n",
    "\n",
    "store_solution = pd.DataFrame([], columns=OILS, index=['INITIAL']+MONTHS)\n",
    "store_solution = store_solution.fillna(0)\n",
    "for i, t in store.keys():\n",
    "    store_solution[i][t] = store[i,t].x\n",
    "print('===STORAGE PLAN')\n",
    "print(store_solution[1:])"
   ]
  },
  {
   "cell_type": "code",
   "execution_count": null,
   "metadata": {},
   "outputs": [],
   "source": []
  }
 ],
 "metadata": {
  "kernelspec": {
   "display_name": "Python 3",
   "language": "python",
   "name": "python3"
  },
  "language_info": {
   "codemirror_mode": {
    "name": "ipython",
    "version": 3
   },
   "file_extension": ".py",
   "mimetype": "text/x-python",
   "name": "python",
   "nbconvert_exporter": "python",
   "pygments_lexer": "ipython3",
   "version": "3.8.8"
  }
 },
 "nbformat": 4,
 "nbformat_minor": 4
}
