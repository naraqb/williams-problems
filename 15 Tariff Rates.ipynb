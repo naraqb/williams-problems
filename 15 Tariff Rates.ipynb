{
 "cells": [
  {
   "cell_type": "code",
   "execution_count": 2,
   "id": "forced-facing",
   "metadata": {},
   "outputs": [],
   "source": [
    "import pandas as pd\n",
    "import gurobipy as gp\n",
    "from gurobipy import GRB"
   ]
  },
  {
   "cell_type": "code",
   "execution_count": 102,
   "id": "better-improvement",
   "metadata": {},
   "outputs": [],
   "source": [
    "periods = list(range(1, 6))\n",
    "prev_period = dict(zip(periods, [5, 1, 2, 3, 4]))\n",
    "time_h  = dict(zip(periods, ['00:00~06:00',\n",
    "                             '06:00~09:00',\n",
    "                             '09:00~15:00',\n",
    "                             '15:00~18:00',\n",
    "                             '18:00~00:00']))\n",
    "hours   = dict(zip(periods, [6, 3, 6, 3, 6]))\n",
    "demand  = dict(zip(periods, [15000, 30000, 25000, 40000, 27000])) \n",
    "\n",
    "gen_types = [1, 2, 3]\n",
    "gen_qty = dict(zip(gen_types, [12, 10, 5]))\n",
    "gen_min = dict(zip(gen_types, [850, 1250, 1500]))\n",
    "gen_max = dict(zip(gen_types, [2000, 1750, 4000]))\n",
    "gen_basecost  = dict(zip(gen_types, [1000, 2600, 3000]))\n",
    "gen_hourcost  = dict(zip(gen_types, [2, 1.3, 3]))\n",
    "gen_startcost = dict(zip(gen_types, [2000, 1000, 500]))"
   ]
  },
  {
   "cell_type": "code",
   "execution_count": 107,
   "id": "basic-modem",
   "metadata": {
    "scrolled": false
   },
   "outputs": [
    {
     "name": "stdout",
     "output_type": "stream",
     "text": [
      "Gurobi Optimizer version 9.1.0 build v9.1.0rc0 (win64)\n",
      "Thread count: 4 physical cores, 8 logical processors, using up to 8 threads\n",
      "Optimize a model with 55 rows, 45 columns and 135 nonzeros\n",
      "Model fingerprint: 0x08b3bbff\n",
      "Variable types: 15 continuous, 30 integer (0 binary)\n",
      "Coefficient statistics:\n",
      "  Matrix range     [1e+00, 4e+03]\n",
      "  Objective range  [4e+00, 9e+03]\n",
      "  Bounds range     [5e+00, 1e+01]\n",
      "  RHS range        [2e+04, 5e+04]\n",
      "Found heuristic solution: objective 1279070.0000\n",
      "Presolve time: 0.00s\n",
      "Presolved: 55 rows, 45 columns, 135 nonzeros\n",
      "Variable types: 0 continuous, 45 integer (0 binary)\n",
      "\n",
      "Root relaxation: objective 9.855143e+05, 19 iterations, 0.00 seconds\n",
      "\n",
      "    Nodes    |    Current Node    |     Objective Bounds      |     Work\n",
      " Expl Unexpl |  Obj  Depth IntInf | Incumbent    BestBd   Gap | It/Node Time\n",
      "\n",
      "     0     0 985514.286    0    7 1279070.00 985514.286  23.0%     -    0s\n",
      "H    0     0                    995430.80000 985514.286  1.00%     -    0s\n",
      "H    0     0                    993990.80000 985514.286  0.85%     -    0s\n",
      "H    0     0                    992720.00000 985514.286  0.73%     -    0s\n",
      "H    0     0                    991970.00000 985514.286  0.65%     -    0s\n",
      "H    0     0                    991697.90000 985514.286  0.62%     -    0s\n",
      "H    0     0                    988540.00000 985514.286  0.31%     -    0s\n",
      "     0     0     cutoff    0      988540.000 988540.000  0.00%     -    0s\n",
      "\n",
      "Cutting planes:\n",
      "  MIR: 4\n",
      "\n",
      "Explored 1 nodes (23 simplex iterations) in 0.06 seconds\n",
      "Thread count was 8 (of 8 available processors)\n",
      "\n",
      "Solution count 7: 988540 991698 991970 ... 1.27907e+06\n",
      "\n",
      "Optimal solution found (tolerance 1.00e-04)\n",
      "Best objective 9.885400000000e+05, best bound 9.885400000000e+05, gap 0.0000%\n"
     ]
    }
   ],
   "source": [
    "model = gp.Model('Tariff Rates')\n",
    "\n",
    "# add vars\n",
    "n = model.addVars(gen_types, periods,  # qty of generators of type i already on in period t\n",
    "                  vtype=GRB.INTEGER,\n",
    "                  name='n')\n",
    "s = model.addVars(gen_types, periods,  # qty of generators of type i started up in period t \n",
    "                  vtype=GRB.INTEGER,\n",
    "                  name='s')\n",
    "x = model.addVars(gen_types, periods,  # total output of generators of type i\n",
    "                  name='x')\n",
    "\n",
    "for i in gen_types:\n",
    "    for j in periods:\n",
    "        n[i,j].setAttr('ub', gen_qty[i])        \n",
    "\n",
    "# objective function\n",
    "model.setObjective((gp.quicksum(gen_startcost[i]*s[i,j] \n",
    "                                for i in gen_types for j in periods)\n",
    "                  + gp.quicksum(gen_basecost[i]*hours[j]*n[i,j]\n",
    "                                for i in gen_types for j in periods)\n",
    "                  + gp.quicksum(gen_hourcost[i]*hours[j]*(x[i,j] - gen_min[i]*n[i,j])\n",
    "                                for i in gen_types for j in periods)))\n",
    "\n",
    "# constraints\n",
    "model.addConstrs((gp.quicksum(x[i,j] for i in gen_types) >= demand[j] \n",
    "                  for j in periods),\n",
    "                 name='demand')\n",
    "\n",
    "model.addConstrs((x[i,j] >= gen_min[i]*n[i,j] \n",
    "                 for i in gen_types for j in periods),\n",
    "                name='min_output')\n",
    "\n",
    "model.addConstrs((x[i,j] <= gen_max[i]*n[i,j] \n",
    "                 for i in gen_types for j in periods),\n",
    "                name='max_output')\n",
    "\n",
    "model.addConstrs((gp.quicksum(gen_max[i]*n[i,j] for i in gen_types) >= 1.15*demand[j] \n",
    "                 for j in periods),\n",
    "                name='extra_demand')\n",
    "\n",
    "model.addConstrs((s[i,j] >= n[i,j] - n[i,prev_period[j]]) \n",
    "                 for i in gen_types for j in periods)\n",
    "\n",
    "model.update()\n",
    "model.write('Tariff Rates.lp')\n",
    "model.optimize()"
   ]
  },
  {
   "cell_type": "code",
   "execution_count": 108,
   "id": "representative-turtle",
   "metadata": {},
   "outputs": [
    {
     "name": "stdout",
     "output_type": "stream",
     "text": [
      "Total cost: $988540.00\n",
      "\n",
      "Period 1\n",
      "12.0 generators type 1 producing 10200 MW\n",
      "3.0 generators type 2 producing 4800 MW\n",
      "\n",
      "Period 2\n",
      "12.0 generators type 1 producing 16000 MW\n",
      "8.0 generators type 2 producing 14000 MW\n",
      "\n",
      "Period 3\n",
      "12.0 generators type 1 producing 11000 MW\n",
      "8.0 generators type 2 producing 14000 MW\n",
      "\n",
      "Period 4\n",
      "12.0 generators type 1 producing 21250 MW\n",
      "9.0 generators type 2 producing 15750 MW\n",
      "2.0 generators type 3 producing 3000 MW\n",
      "\n",
      "Period 5\n",
      "12.0 generators type 1 producing 11250 MW\n",
      "9.0 generators type 2 producing 15750 MW\n"
     ]
    }
   ],
   "source": [
    "print('Total cost: ${:.2f}'.format(model.ObjVal))\n",
    "\n",
    "for j in periods:\n",
    "    print('\\nPeriod {}'.format(j))\n",
    "    for i in gen_types:\n",
    "        if n[i,j].x > 0:\n",
    "            print('{} generators type {} producing {:.0f} MW'.format(n[i,j].x, i, x[i,j].x))\n",
    "        "
   ]
  },
  {
   "cell_type": "code",
   "execution_count": 109,
   "id": "encouraging-blond",
   "metadata": {
    "scrolled": true
   },
   "outputs": [
    {
     "name": "stdout",
     "output_type": "stream",
     "text": [
      "\n",
      "Period 1\n",
      "\n",
      "Period 2\n",
      "Start 5.0 generators of type 2\n",
      "\n",
      "Period 3\n",
      "\n",
      "Period 4\n",
      "Start 1.0 generators of type 2\n",
      "Start 2.0 generators of type 3\n",
      "\n",
      "Period 5\n"
     ]
    }
   ],
   "source": [
    "for j in periods:\n",
    "    print('\\nPeriod {}'.format(j))\n",
    "    for i in gen_types:\n",
    "        if s[i,j].x>0:\n",
    "            print('Start {} generators of type {}'.format(s[i,j].x, i))"
   ]
  }
 ],
 "metadata": {
  "kernelspec": {
   "display_name": "Python 3",
   "language": "python",
   "name": "python3"
  },
  "language_info": {
   "codemirror_mode": {
    "name": "ipython",
    "version": 3
   },
   "file_extension": ".py",
   "mimetype": "text/x-python",
   "name": "python",
   "nbconvert_exporter": "python",
   "pygments_lexer": "ipython3",
   "version": "3.8.6"
  }
 },
 "nbformat": 4,
 "nbformat_minor": 5
}
