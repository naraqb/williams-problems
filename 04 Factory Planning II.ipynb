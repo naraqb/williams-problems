{
 "cells": [
  {
   "cell_type": "code",
   "execution_count": 2,
   "metadata": {},
   "outputs": [],
   "source": [
    "import pandas as pd\n",
    "import gurobipy as gp\n",
    "from gurobipy import GRB"
   ]
  },
  {
   "cell_type": "code",
   "execution_count": 3,
   "metadata": {},
   "outputs": [],
   "source": [
    "data1 = [[ 0.5,  0.7, None, None,  0.3,  0.2,  0.5],\n",
    "         [ 0.1,  0.2, None, 0.3 , None,  0.6, None],\n",
    "         [ 0.2, None,  0.8, None, None, None, 0.6 ],\n",
    "         [0.05, 0.03, None, 0.07,  0.1, None, 0.08],\n",
    "         [ None, None, 0.01, None, 0.05, None, 0.05]]\n",
    "data2 = [[500, 1000, 300, 300,  800, 200, 100],\n",
    "         [600,  500, 200,   0,  400, 300, 150],\n",
    "         [300,  600,   0,   0,  500, 400, 100],\n",
    "         [200,  300, 400, 500,  200,   0, 100],\n",
    "         [  0,  100, 500, 100, 1000, 300,   0],\n",
    "         [500,  500, 100, 300, 1100, 500,  60]]\n",
    "\n",
    "PRODS = ['PROD1', 'PROD2', 'PROD3', 'PROD4', 'PROD5', 'PROD6', 'PROD7']\n",
    "MONTHS = ['JAN', 'FEB', 'MAR', 'APR', 'MAY', 'JUN']\n",
    "MACHINES = ['grinder', 'v_driller', 'h_driller', 'borer', 'planer']\n",
    "PREV_MONTH = {'JAN': 'INITIAL', \n",
    "              'FEB': 'JAN',\n",
    "              'MAR': 'FEB',\n",
    "              'APR': 'MAR',\n",
    "              'MAY': 'APR',\n",
    "              'JUN': 'MAY'}\n",
    "\n",
    "req_proc = pd.DataFrame(data1, columns=PRODS, index=MACHINES)\n",
    "mark_lim = pd.DataFrame(data2, columns=PRODS, index=MONTHS)\n",
    "exist_mac = dict(zip(MACHINES, [4, 2, 3, 1, 1]))\n",
    "req_maint = dict(zip(MACHINES, [2, 2, 3, 1, 1]))\n",
    "contr_profit = dict(zip(PRODS, [10, 6, 8, 4, 11, 9, 3]))\n",
    "\n",
    "storage_cost   = 0.5\n",
    "storage_limit  = 100\n",
    "shift_length   = 8\n",
    "n_of_shifts    = 2\n",
    "days_per_month = 24"
   ]
  },
  {
   "cell_type": "code",
   "execution_count": 4,
   "metadata": {
    "scrolled": true
   },
   "outputs": [
    {
     "name": "stdout",
     "output_type": "stream",
     "text": [
      "Using license file C:\\Users\\Nara\\gurobi.lic\n",
      "Academic license - for non-commercial use only - expires 2021-03-12\n"
     ]
    }
   ],
   "source": [
    "model = gp.Model('Factory Planning II')\n",
    "\n",
    "# add vars\n",
    "make = model.addVars(PRODS, MONTHS,\n",
    "                     name='make')\n",
    "sell = model.addVars(PRODS, MONTHS,\n",
    "                     name='sell')\n",
    "store = model.addVars(PRODS, MONTHS+['INITIAL'],\n",
    "                       name='store')\n",
    "maint = model.addVars(MACHINES, MONTHS,\n",
    "                      name='maint',\n",
    "                      vtype=gp.GRB.INTEGER)\n",
    "\n",
    "\n",
    "# set upper and lower bounds of \"store\" variables\n",
    "for i in PRODS:\n",
    "    store[i,'INITIAL'].setAttr('ub', 0.0)\n",
    "    store[i,'INITIAL'].setAttr('lb', 0.0)\n",
    "    store[i,'JUN'].setAttr('ub', 50.0)\n",
    "    store[i,'JUN'].setAttr('lb', 50.0)\n",
    "    \n",
    "# objective function\n",
    "model.setObjective(gp.quicksum(contr_profit[i]*sell[i,t] - storage_cost*store[i,t] for i in PRODS for t in MONTHS),\n",
    "                    GRB.MAXIMIZE)\n",
    "\n",
    "# add constraints\n",
    "model.addConstrs((sell[i,t] <= mark_lim[i][t] for i in PRODS for t in MONTHS),\n",
    "                  name='market_lim')\n",
    "model.addConstrs((store[i,t] <= 100 for i in PRODS for t in MONTHS),\n",
    "                  name='storage_lim')\n",
    "model.addConstrs((make[i,t] + store[i,PREV_MONTH[t]] - sell[i,t] - store[i,t] == 0 for i in PRODS for t in MONTHS),\n",
    "                  name='storage_link')\n",
    "model.addConstrs((gp.quicksum(req_proc[i][m]*make[i,t] for i in PRODS) <= \n",
    "                  n_of_shifts*shift_length*days_per_month*(exist_mac[m] - maint[m,t])\n",
    "                  for t in MONTHS for m in MACHINES),\n",
    "                  name='mac_lim')\n",
    "model.addConstrs((gp.quicksum(maint[m,t] for t in MONTHS) == req_maint[m] for m in MACHINES))\n",
    "\n",
    "model.update()"
   ]
  },
  {
   "cell_type": "code",
   "execution_count": 5,
   "metadata": {},
   "outputs": [
    {
     "name": "stdout",
     "output_type": "stream",
     "text": [
      "Gurobi Optimizer version 9.1.0 build v9.1.0rc0 (win64)\n",
      "Thread count: 4 physical cores, 8 logical processors, using up to 8 threads\n",
      "Optimize a model with 161 rows, 163 columns and 432 nonzeros\n",
      "Model fingerprint: 0x01868e5b\n",
      "Variable types: 133 continuous, 30 integer (0 binary)\n",
      "Coefficient statistics:\n",
      "  Matrix range     [1e-02, 4e+02]\n",
      "  Objective range  [5e-01, 1e+01]\n",
      "  Bounds range     [5e+01, 5e+01]\n",
      "  RHS range        [1e+00, 2e+03]\n",
      "Found heuristic solution: objective -175.0000000\n",
      "Presolve removed 99 rows and 34 columns\n",
      "Presolve time: 0.00s\n",
      "Presolved: 62 rows, 129 columns, 278 nonzeros\n",
      "Variable types: 105 continuous, 24 integer (12 binary)\n",
      "\n",
      "Root relaxation: objective 1.164550e+05, 13 iterations, 0.00 seconds\n",
      "\n",
      "    Nodes    |    Current Node    |     Objective Bounds      |     Work\n",
      " Expl Unexpl |  Obj  Depth IntInf | Incumbent    BestBd   Gap | It/Node Time\n",
      "\n",
      "     0     0 116455.000    0   11 -175.00000 116455.000      -     -    0s\n",
      "H    0     0                    92755.000000 116455.000  25.6%     -    0s\n",
      "H    0     0                    95975.000000 116455.000  21.3%     -    0s\n",
      "H    0     0                    108855.00000 116455.000  6.98%     -    0s\n",
      "     0     0     cutoff    0      108855.000 108855.000  0.00%     -    0s\n",
      "\n",
      "Cutting planes:\n",
      "  Gomory: 7\n",
      "  MIR: 3\n",
      "  Relax-and-lift: 12\n",
      "\n",
      "Explored 1 nodes (26 simplex iterations) in 0.05 seconds\n",
      "Thread count was 8 (of 8 available processors)\n",
      "\n",
      "Solution count 4: 108855 95975 92755 -175 \n",
      "\n",
      "Optimal solution found (tolerance 1.00e-04)\n",
      "Best objective 1.088550000000e+05, best bound 1.088550000000e+05, gap 0.0000%\n"
     ]
    }
   ],
   "source": [
    "model.write('4 Factory Planning II.lp')\n",
    "model.optimize()"
   ]
  },
  {
   "cell_type": "code",
   "execution_count": 6,
   "metadata": {
    "scrolled": false
   },
   "outputs": [
    {
     "name": "stdout",
     "output_type": "stream",
     "text": [
      "Profit of $108855.00\n",
      "===SELLING PLAN\n",
      "     PROD1  PROD2  PROD3  PROD4  PROD5  PROD6  PROD7\n",
      "JAN    500   1000    300    300    800    200    100\n",
      "FEB    600    500    200      0    400    300    150\n",
      "MAR    300    600      0      0    500    400    100\n",
      "APR    100    100    100    100    100      0    100\n",
      "MAY      0    100    500    100   1000    300      0\n",
      "JUN    500    500    100    300   1100    500     60\n",
      "===PRODUCE PLAN\n",
      "     PROD1  PROD2  PROD3  PROD4  PROD5  PROD6  PROD7\n",
      "JAN    500   1000    300    300    800    200    100\n",
      "FEB    600    500    200      0    400    300    150\n",
      "MAR    400    700    100    100    600    400    200\n",
      "APR      0      0      0      0      0      0      0\n",
      "MAY      0    100    500    100   1000    300      0\n",
      "JUN    550    550    150    350   1150    550    110\n",
      "===STORAGE PLAN\n",
      "     PROD1  PROD2  PROD3  PROD4  PROD5  PROD6  PROD7\n",
      "JAN      0      0      0      0      0      0      0\n",
      "FEB      0      0      0      0      0      0      0\n",
      "MAR    100    100    100    100    100      0    100\n",
      "APR      0      0      0      0      0      0      0\n",
      "MAY      0      0      0      0      0      0      0\n",
      "JUN     50     50     50     50     50     50     50\n",
      "===MAINTENANCE PLAN\n",
      "     grinder  v_driller  h_driller  borer  planer\n",
      "JAN        0          0          1      0       0\n",
      "FEB        0          1          0      0       0\n",
      "MAR        0          0          0      0       0\n",
      "APR        2          0          0      1       1\n",
      "MAY        0          1          0      0       0\n",
      "JUN        0          0          2      0       0\n"
     ]
    }
   ],
   "source": [
    "print('Profit of ${:.2f}'.format(model.objVal))\n",
    "\n",
    "sell_solution = pd.DataFrame([], columns=PRODS, index=MONTHS)\n",
    "sell_solution = sell_solution.fillna(0)\n",
    "for i, t in sell.keys():\n",
    "    sell_solution[i][t] = sell[i,t].x\n",
    "print('===SELLING PLAN')\n",
    "print(sell_solution)\n",
    "\n",
    "make_solution = pd.DataFrame([], columns=PRODS, index=MONTHS)\n",
    "make_solution = make_solution.fillna(0)\n",
    "for i, t in make.keys():\n",
    "    make_solution[i][t] = make[i,t].x\n",
    "print('===PRODUCE PLAN')\n",
    "print(make_solution)\n",
    "\n",
    "store_solution = pd.DataFrame([], columns=PRODS, index=['INITIAL']+MONTHS)\n",
    "store_solution = store_solution.fillna(0)\n",
    "for i, t in store.keys():\n",
    "    store_solution[i][t] = store[i,t].x\n",
    "print('===STORAGE PLAN')\n",
    "print(store_solution[1:])\n",
    "\n",
    "maint_solution = pd.DataFrame([], columns=MACHINES, index=MONTHS)\n",
    "maint_solution = maint_solution.fillna(0)\n",
    "for m, t in maint.keys():\n",
    "    maint_solution[m][t] = maint[m,t].x\n",
    "print('===MAINTENANCE PLAN')\n",
    "print(maint_solution)"
   ]
  }
 ],
 "metadata": {
  "kernelspec": {
   "display_name": "Python 3",
   "language": "python",
   "name": "python3"
  },
  "language_info": {
   "codemirror_mode": {
    "name": "ipython",
    "version": 3
   },
   "file_extension": ".py",
   "mimetype": "text/x-python",
   "name": "python",
   "nbconvert_exporter": "python",
   "pygments_lexer": "ipython3",
   "version": "3.8.6"
  }
 },
 "nbformat": 4,
 "nbformat_minor": 4
}
