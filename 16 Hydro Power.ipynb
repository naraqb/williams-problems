{
 "cells": [
  {
   "cell_type": "code",
   "execution_count": 4,
   "id": "forced-facing",
   "metadata": {},
   "outputs": [],
   "source": [
    "import pandas as pd\n",
    "import gurobipy as gp\n",
    "from gurobipy import GRB"
   ]
  },
  {
   "cell_type": "code",
   "execution_count": 5,
   "id": "better-improvement",
   "metadata": {},
   "outputs": [],
   "source": [
    "periods = list(range(1, 6))\n",
    "prev_period = dict(zip(periods, [5, 1, 2, 3, 4]))\n",
    "time_h  = dict(zip(periods, ['00:00~06:00',\n",
    "                             '06:00~09:00',\n",
    "                             '09:00~15:00',\n",
    "                             '15:00~18:00',\n",
    "                             '18:00~00:00']))\n",
    "hours   = dict(zip(periods, [6, 3, 6, 3, 6]))\n",
    "demand  = dict(zip(periods, [15000, 30000, 25000, 40000, 27000])) \n",
    "\n",
    "gen_types = [1, 2, 3]\n",
    "gen_qty = dict(zip(gen_types, [12, 10, 5]))\n",
    "gen_min = dict(zip(gen_types, [850, 1250, 1500]))\n",
    "gen_max = dict(zip(gen_types, [2000, 1750, 4000]))\n",
    "gen_basecost  = dict(zip(gen_types, [1000, 2600, 3000]))\n",
    "gen_hourcost  = dict(zip(gen_types, [2, 1.3, 3]))\n",
    "gen_startcost = dict(zip(gen_types, [2000, 1000, 500]))\n",
    "\n",
    "hyd_types = ['A', 'B']\n",
    "hyd_oper_lvl = dict(zip(hyd_types, [900, 1400]))\n",
    "hyd_hourcost = dict(zip(hyd_types, [90, 150]))\n",
    "hyd_rese_red = dict(zip(hyd_types, [0.31, 0.47]))\n",
    "hyd_startcost = dict(zip(hyd_types, [1500, 1200]))"
   ]
  },
  {
   "cell_type": "code",
   "execution_count": 29,
   "id": "basic-modem",
   "metadata": {
    "scrolled": false
   },
   "outputs": [
    {
     "name": "stdout",
     "output_type": "stream",
     "text": [
      "Gurobi Optimizer version 9.1.0 build v9.1.0rc0 (win64)\n",
      "Thread count: 4 physical cores, 8 logical processors, using up to 8 threads\n",
      "Optimize a model with 70 rows, 75 columns and 205 nonzeros\n",
      "Model fingerprint: 0x9060a227\n",
      "Variable types: 25 continuous, 50 integer (20 binary)\n",
      "Coefficient statistics:\n",
      "  Matrix range     [1e-03, 4e+03]\n",
      "  Objective range  [4e+00, 9e+03]\n",
      "  Bounds range     [1e+00, 2e+01]\n",
      "  RHS range        [1e+04, 4e+04]\n",
      "Found heuristic solution: objective 1164975.0000\n",
      "Presolve time: 0.00s\n",
      "Presolved: 70 rows, 75 columns, 205 nonzeros\n",
      "Variable types: 25 continuous, 50 integer (20 binary)\n",
      "\n",
      "Root relaxation: objective 9.850143e+05, 28 iterations, 0.00 seconds\n",
      "\n",
      "    Nodes    |    Current Node    |     Objective Bounds      |     Work\n",
      " Expl Unexpl |  Obj  Depth IntInf | Incumbent    BestBd   Gap | It/Node Time\n",
      "\n",
      "     0     0 985014.286    0    7 1164975.00 985014.286  15.4%     -    0s\n",
      "H    0     0                    994935.00000 985014.286  1.00%     -    0s\n",
      "H    0     0                    992220.00000 985014.286  0.73%     -    0s\n",
      "H    0     0                    991470.00000 985014.286  0.65%     -    0s\n",
      "     0     0 985814.126    0   10 991470.000 985814.126  0.57%     -    0s\n",
      "H    0     0                    989947.00000 985814.126  0.42%     -    0s\n",
      "H    0     0                    986630.00000 985814.126  0.08%     -    0s\n",
      "     0     0 986023.482    0   10 986630.000 986023.482  0.06%     -    0s\n",
      "     0     0 986023.482    0   10 986630.000 986023.482  0.06%     -    0s\n",
      "     0     0 986057.490    0    9 986630.000 986057.490  0.06%     -    0s\n",
      "     0     0 986160.714    0   10 986630.000 986160.714  0.05%     -    0s\n",
      "\n",
      "Cutting planes:\n",
      "  Gomory: 1\n",
      "  MIR: 3\n",
      "\n",
      "Explored 1 nodes (65 simplex iterations) in 0.08 seconds\n",
      "Thread count was 8 (of 8 available processors)\n",
      "\n",
      "Solution count 5: 986630 989947 991470 ... 1.16498e+06\n",
      "\n",
      "Optimal solution found (tolerance 1.00e-04)\n",
      "Best objective 9.866300000000e+05, best bound 9.866114285714e+05, gap 0.0019%\n"
     ]
    }
   ],
   "source": [
    "model = gp.Model('Hydro Power')\n",
    "\n",
    "# add vars\n",
    "n = model.addVars(gen_types, periods,  # qty of generators of type i already on in period t\n",
    "                  vtype=GRB.INTEGER,\n",
    "                  name='n')\n",
    "s = model.addVars(gen_types, periods,  # qty of generators of type i started up in period t \n",
    "                  vtype=GRB.INTEGER,\n",
    "                  name='s')\n",
    "x = model.addVars(gen_types, periods,  # total output of generators of type i\n",
    "                  name='x')\n",
    "h = model.addVars(hyd_types, periods,  # if hydro k is on in period j\n",
    "                  vtype=GRB.BINARY,\n",
    "                  name='h')\n",
    "t = model.addVars(hyd_types, periods,  # if hydro k started up in period j\n",
    "                  vtype=GRB.BINARY,\n",
    "                  name='j')\n",
    "l = model.addVars(periods,             # reservoir level in period j\n",
    "                  name='l')\n",
    "p = model.addVars(periods,             # watts used to pump water in period j \n",
    "                  name='p')\n",
    "\n",
    "for i in gen_types:\n",
    "    for j in periods:\n",
    "        n[i,j].setAttr('ub', gen_qty[i])        \n",
    "\n",
    "for j in periods:\n",
    "    l[j].setAttr('lb', 16)  \n",
    "\n",
    "# objective function\n",
    "model.setObjective((gp.quicksum(gen_startcost[i]*s[i,j] \n",
    "                                for i in gen_types for j in periods)\n",
    "                  + gp.quicksum(gen_basecost[i]*hours[j]*n[i,j]\n",
    "                                for i in gen_types for j in periods)\n",
    "                  + gp.quicksum(gen_hourcost[i]*hours[j]*(x[i,j] - gen_min[i]*n[i,j])\n",
    "                                for i in gen_types for j in periods)\n",
    "                  + gp.quicksum(hyd_hourcost[k]*hours[j]*h[k,j]\n",
    "                                for k in hyd_types for j in periods)\n",
    "                  + gp.quicksum(hyd_startcost[k]*t[k,j]\n",
    "                                for k in hyd_types for j in periods)))\n",
    "\n",
    "# constraints\n",
    "model.addConstrs((gp.quicksum(x[i,j] for i in gen_types) \n",
    "                + gp.quicksum(hyd_oper_lvl[k]*h[k,j] for k in hyd_types) \n",
    "                - p[j] >= demand[j] for j in periods),\n",
    "                 name='demand')\n",
    "\n",
    "model.addConstrs((x[i,j] >= gen_min[i]*n[i,j] \n",
    "                 for i in gen_types for j in periods),\n",
    "                name='min_output')\n",
    "\n",
    "model.addConstrs((x[i,j] <= gen_max[i]*n[i,j] \n",
    "                 for i in gen_types for j in periods),\n",
    "                name='max_output')\n",
    "\n",
    "model.addConstrs((gp.quicksum(gen_max[i]*n[i,j] for i in gen_types) \n",
    "                + gp.quicksum(hyd_oper_lvl[k] for k in hyd_types)\n",
    "                  >= 1.15*demand[j] for j in periods),\n",
    "                name='extra_demand')\n",
    "\n",
    "model.addConstrs((s[i,j] >= n[i,j] - n[i,prev_period[j]] \n",
    "                 for i in gen_types for j in periods),\n",
    "                name='gen_starting')\n",
    "\n",
    "model.addConstrs((t[k,j] >= h[k,j] - h[k,prev_period[j]] \n",
    "                 for k in hyd_types for j in periods),\n",
    "                name='hyd_starting')\n",
    "\n",
    "model.addConstrs((l[j] - l[prev_period[j]] - hours[j]*p[j]/3000\n",
    "                + gp.quicksum(hours[j]*hyd_rese_red[k]*h[k,j] for k in hyd_types)\n",
    "                  == 0 for j in periods),\n",
    "                name='rese_level')\n",
    "\n",
    "model.update()\n",
    "model.write('Hydro Power.lp')\n",
    "model.optimize()"
   ]
  },
  {
   "cell_type": "code",
   "execution_count": 25,
   "id": "representative-turtle",
   "metadata": {},
   "outputs": [
    {
     "name": "stdout",
     "output_type": "stream",
     "text": [
      "Total cost: $986630.00\n",
      "\n",
      "Period 1\n",
      "12.0 Thermal type 1 producing 10565 MW\n",
      "3.0 Thermal type 2 producing 5250 MW\n",
      "\n",
      "Period 2\n",
      "12.0 Thermal type 1 producing 14250 MW\n",
      "9.0 Thermal type 2 producing 15750 MW\n",
      "\n",
      "Period 3\n",
      "12.0 Thermal type 1 producing 10200 MW\n",
      "9.0 Thermal type 2 producing 15750 MW\n",
      "\n",
      "Period 4\n",
      "12.0 Thermal type 1 producing 21350 MW\n",
      "9.0 Thermal type 2 producing 15750 MW\n",
      "1.0 Thermal type 3 producing 1500 MW\n",
      "Hydro type B producing 1400 MW\n",
      "\n",
      "Period 5\n",
      "12.0 Thermal type 1 producing 10200 MW\n",
      "9.0 Thermal type 2 producing 15750 MW\n",
      "Hydro type B producing 1400 MW\n"
     ]
    }
   ],
   "source": [
    "print('Total cost: ${:.2f}'.format(model.ObjVal))\n",
    "\n",
    "for j in periods:\n",
    "    print('\\nPeriod {}'.format(j))\n",
    "    for i in gen_types:\n",
    "        if n[i,j].x > 0:\n",
    "            print('{} Thermal type {} producing {:.0f} MW'.format(n[i,j].x, i, x[i,j].x))\n",
    "    for k in hyd_types:\n",
    "        if h[k,j].x > 0:\n",
    "            print('Hydro type {} producing {:.0f} MW'.format(k, hyd_oper_lvl[k]))"
   ]
  },
  {
   "cell_type": "code",
   "execution_count": 26,
   "id": "encouraging-blond",
   "metadata": {
    "scrolled": true
   },
   "outputs": [
    {
     "name": "stdout",
     "output_type": "stream",
     "text": [
      "\n",
      "Period 1\n",
      "\n",
      "Period 2\n",
      "Start 6.0 generators of type 2\n",
      "\n",
      "Period 3\n",
      "\n",
      "Period 4\n",
      "Start 1.0 generators of type 3\n",
      "\n",
      "Period 5\n"
     ]
    }
   ],
   "source": [
    "for j in periods:\n",
    "    print('\\nPeriod {}'.format(j))\n",
    "    for i in gen_types:\n",
    "        if s[i,j].x>0:\n",
    "            print('Start {} generators of type {}'.format(s[i,j].x, i))"
   ]
  },
  {
   "cell_type": "code",
   "execution_count": 27,
   "id": "matched-emerald",
   "metadata": {},
   "outputs": [
    {
     "name": "stdout",
     "output_type": "stream",
     "text": [
      "\n",
      "Period 1\n",
      "Pumping using 815MW\n",
      "\n",
      "Period 3\n",
      "Pumping using 950MW\n",
      "\n",
      "Period 5\n",
      "Pumping using 350MW\n"
     ]
    }
   ],
   "source": [
    "for j in periods:\n",
    "    if p[j].x > 0:\n",
    "        print('\\nPeriod {}'.format(j))\n",
    "        print('Pumping using {:.0f}MW'.format(p[j].x))\n",
    "    "
   ]
  },
  {
   "cell_type": "code",
   "execution_count": 28,
   "id": "spread-contact",
   "metadata": {},
   "outputs": [
    {
     "name": "stdout",
     "output_type": "stream",
     "text": [
      "\n",
      "Period 1\n",
      "Reservoir level at 16.00m\n",
      "\n",
      "Period 2\n",
      "Reservoir level at 17.63m\n",
      "\n",
      "Period 3\n",
      "Reservoir level at 17.63m\n",
      "\n",
      "Period 4\n",
      "Reservoir level at 19.53m\n",
      "\n",
      "Period 5\n",
      "Reservoir level at 18.12m\n"
     ]
    }
   ],
   "source": [
    "for j in periods:\n",
    "    if l[j].x > 0:\n",
    "        print('\\nPeriod {}'.format(j))\n",
    "        print('Reservoir level at {:.2f}m'.format(l[prev_period[j]].x))"
   ]
  }
 ],
 "metadata": {
  "kernelspec": {
   "display_name": "Python 3",
   "language": "python",
   "name": "python3"
  },
  "language_info": {
   "codemirror_mode": {
    "name": "ipython",
    "version": 3
   },
   "file_extension": ".py",
   "mimetype": "text/x-python",
   "name": "python",
   "nbconvert_exporter": "python",
   "pygments_lexer": "ipython3",
   "version": "3.8.6"
  }
 },
 "nbformat": 4,
 "nbformat_minor": 5
}
