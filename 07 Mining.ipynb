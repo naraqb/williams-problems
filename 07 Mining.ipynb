{
 "cells": [
  {
   "cell_type": "code",
   "execution_count": 36,
   "metadata": {},
   "outputs": [],
   "source": [
    "import pandas as pd\n",
    "import gurobipy as gp\n",
    "from gurobipy import GRB"
   ]
  },
  {
   "cell_type": "code",
   "execution_count": 31,
   "metadata": {},
   "outputs": [],
   "source": [
    "MINES = ['MINE1', 'MINE2', 'MINE3', 'MINE4']\n",
    "YEARS = ['YEAR1', 'YEAR2', 'YEAR3', 'YEAR4', 'YEAR5']\n",
    "NEXT_YEAR = {'YEAR1': 'YEAR2', \n",
    "             'YEAR2': 'YEAR3',\n",
    "             'YEAR3': 'YEAR4',\n",
    "             'YEAR4': 'YEAR5'}\n",
    "\n",
    "royalties = dict(zip(MINES, [5e6, 4e6, 4e6, 5e6]))\n",
    "ore_limit = dict(zip(MINES, [2e6, 2.5e6, 1.3e6, 3e6]))\n",
    "ore_quali = dict(zip(MINES, [1.0, 0.7, 1.5, 0.5]))\n",
    "req_quali = dict(zip(YEARS, [0.9, 0.8, 1.2, 0.6, 1.0]))\n",
    "year_disc = dict(zip(YEARS, [(1/(1+1/10.0))**(t-1) for t in [1,2,3,4,5]]))\n",
    "\n",
    "blend_price   = 10\n",
    "rev_disc_rate = 0.1"
   ]
  },
  {
   "cell_type": "code",
   "execution_count": 32,
   "metadata": {},
   "outputs": [
    {
     "data": {
      "text/plain": [
       "{'YEAR1': 1.0,\n",
       " 'YEAR2': 0.9090909090909091,\n",
       " 'YEAR3': 0.8264462809917354,\n",
       " 'YEAR4': 0.7513148009015777,\n",
       " 'YEAR5': 0.6830134553650706}"
      ]
     },
     "execution_count": 32,
     "metadata": {},
     "output_type": "execute_result"
    }
   ],
   "source": [
    "years = [1, 2, 3, 4, 5]\n",
    "aa = {year: (1/(1+1/10.0)) ** (year-1) for year in years}\n",
    "year_disc"
   ]
  },
  {
   "cell_type": "code",
   "execution_count": 33,
   "metadata": {},
   "outputs": [],
   "source": [
    "model = gp.Model('Mining')\n",
    "\n",
    "# add vars\n",
    "extract = model.addVars(MINES, YEARS,\n",
    "                        name='extract')\n",
    "make = model.addVars(YEARS,\n",
    "                     name='make')\n",
    "used = model.addVars(MINES, YEARS,\n",
    "                     name='used',\n",
    "                     vtype=gp.GRB.BINARY)\n",
    "active = model.addVars(MINES, YEARS,\n",
    "                       name='active',\n",
    "                       vtype=gp.GRB.BINARY)\n",
    "\n",
    "# objective function\n",
    "model.setObjective(gp.quicksum(blend_price*year_disc[t]*make[t] for t in YEARS)\n",
    "                   - gp.quicksum(royalties[m]*year_disc[t]*active[m,t] for m in MINES for t in YEARS),\n",
    "                   GRB.MAXIMIZE)\n",
    "\n",
    "# add constraints\n",
    "model.addConstrs((gp.quicksum(used[m,t] for m in MINES) <= 3 for t in YEARS),\n",
    "                 name='mines_limit')\n",
    "model.addConstrs((extract[m,t] - ore_limit[m]*used[m,t] <= 0 for m in MINES for t in YEARS),\n",
    "                 name='extract_then_used')\n",
    "model.addConstrs((used[m,t] - active[m,t] <= 0 for m in MINES for t in YEARS),\n",
    "                 name='notactive_then_cantbeused')\n",
    "model.addConstrs((active[m,NEXT_YEAR[t]] - active[m,t] <= 0 for m in MINES for t in YEARS[:4]),\n",
    "                 name='notactive_then_notactiveanymore')\n",
    "model.addConstrs((gp.quicksum(ore_quali[m]*extract[m,t] for m in MINES)\n",
    "                              - req_quali[t]*make[t] == 0 for t in YEARS),\n",
    "                 name='quality')\n",
    "model.addConstrs((gp.quicksum(extract[m,t] for m in MINES) - make[t] == 0 for t in YEARS),\n",
    "                 name='mass_conservation')\n",
    "model.update()"
   ]
  },
  {
   "cell_type": "code",
   "execution_count": 34,
   "metadata": {},
   "outputs": [
    {
     "name": "stdout",
     "output_type": "stream",
     "text": [
      "Gurobi Optimizer version 9.1.0 build v9.1.0rc0 (win64)\n",
      "Thread count: 4 physical cores, 8 logical processors, using up to 8 threads\n",
      "Optimize a model with 71 rows, 65 columns and 182 nonzeros\n",
      "Model fingerprint: 0xf2903faa\n",
      "Variable types: 25 continuous, 40 integer (40 binary)\n",
      "Coefficient statistics:\n",
      "  Matrix range     [5e-01, 3e+06]\n",
      "  Objective range  [7e+00, 5e+06]\n",
      "  Bounds range     [1e+00, 1e+00]\n",
      "  RHS range        [3e+00, 3e+00]\n",
      "Found heuristic solution: objective -0.0000000\n",
      "Presolve removed 13 rows and 13 columns\n",
      "Presolve time: 0.00s\n",
      "Presolved: 58 rows, 52 columns, 135 nonzeros\n",
      "Variable types: 16 continuous, 36 integer (36 binary)\n",
      "\n",
      "Root relaxation: objective 1.577309e+08, 40 iterations, 0.00 seconds\n",
      "\n",
      "    Nodes    |    Current Node    |     Objective Bounds      |     Work\n",
      " Expl Unexpl |  Obj  Depth IntInf | Incumbent    BestBd   Gap | It/Node Time\n",
      "\n",
      "     0     0 1.5773e+08    0    4   -0.00000 1.5773e+08      -     -    0s\n",
      "H    0     0                    1.189074e+08 1.5773e+08  32.7%     -    0s\n",
      "H    0     0                    1.302711e+08 1.5773e+08  21.1%     -    0s\n",
      "H    0     0                    1.393620e+08 1.5524e+08  11.4%     -    0s\n",
      "     0     0 1.5462e+08    0    4 1.3936e+08 1.5462e+08  10.9%     -    0s\n",
      "H    0     0                    1.468620e+08 1.5462e+08  5.28%     -    0s\n",
      "\n",
      "Cutting planes:\n",
      "  Implied bound: 4\n",
      "  MIR: 3\n",
      "  Flow cover: 1\n",
      "  RLT: 3\n",
      "  Relax-and-lift: 3\n",
      "\n",
      "Explored 1 nodes (48 simplex iterations) in 0.05 seconds\n",
      "Thread count was 8 (of 8 available processors)\n",
      "\n",
      "Solution count 5: 1.46862e+08 1.39362e+08 1.30271e+08 ... -0\n",
      "\n",
      "Optimal solution found (tolerance 1.00e-04)\n",
      "Best objective 1.468619743642e+08, best bound 1.468619743642e+08, gap 0.0000%\n"
     ]
    }
   ],
   "source": [
    "model.write('Mining.lp')\n",
    "model.optimize()"
   ]
  },
  {
   "cell_type": "code",
   "execution_count": 68,
   "metadata": {},
   "outputs": [
    {
     "name": "stdout",
     "output_type": "stream",
     "text": [
      "Profit of $146861974.36\n",
      "===PRODUCING PLAN\n",
      "          tons\n",
      "YEAR1  5750000\n",
      "YEAR2  5999999\n",
      "YEAR3  3250000\n",
      "YEAR4  5625000\n",
      "YEAR5  5466666\n",
      "===EXTRACTION PLAN\n",
      "         MINE1    MINE2    MINE3    MINE4\n",
      "YEAR1  2000000        0  1300000  2450000\n",
      "YEAR2        0  2500000  1300000  2199999\n",
      "YEAR3  1950000        0  1300000        0\n",
      "YEAR4   124999  2500000        0  3000000\n",
      "YEAR5  2000000  2166666  1300000        0\n"
     ]
    }
   ],
   "source": [
    "print('Profit of ${:.2f}'.format(model.objVal))\n",
    "\n",
    "make_solution = pd.DataFrame([], columns=['tons'], index=YEARS)\n",
    "make_solution = make_solution.fillna(0)\n",
    "for t in make.keys():\n",
    "    make_solution['tons'][t] = make[t].x\n",
    "print('===PRODUCING PLAN')\n",
    "print(make_solution)\n",
    "\n",
    "extract_solution = pd.DataFrame([], columns=MINES, index=YEARS)\n",
    "extract_solution = extract_solution.fillna(0)\n",
    "for m, t in extract.keys():\n",
    "    extract_solution[m][t] = extract[m,t].x\n",
    "print('===EXTRACTION PLAN')\n",
    "print(extract_solution)"
   ]
  }
 ],
 "metadata": {
  "kernelspec": {
   "display_name": "Python 3",
   "language": "python",
   "name": "python3"
  },
  "language_info": {
   "codemirror_mode": {
    "name": "ipython",
    "version": 3
   },
   "file_extension": ".py",
   "mimetype": "text/x-python",
   "name": "python",
   "nbconvert_exporter": "python",
   "pygments_lexer": "ipython3",
   "version": "3.8.6"
  }
 },
 "nbformat": 4,
 "nbformat_minor": 4
}
