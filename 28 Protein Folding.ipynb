{
 "cells": [
  {
   "cell_type": "code",
   "execution_count": 1,
   "metadata": {},
   "outputs": [],
   "source": [
    "import pandas as pd\n",
    "import gurobipy as gp\n",
    "from gurobipy import GRB"
   ]
  },
  {
   "cell_type": "code",
   "execution_count": 2,
   "metadata": {},
   "outputs": [],
   "source": [
    "aminoacids   = list(range(1,51))\n",
    "hydrophobics = [2, 4, 5, 6, 11, 12, 17, 20, 21, 25, \n",
    "               27, 28, 30, 31, 33, 37, 44, 46]"
   ]
  },
  {
   "cell_type": "code",
   "execution_count": 43,
   "metadata": {},
   "outputs": [],
   "source": [
    "# We could search among ALL pairs of positions in hydrophobics, \n",
    "# but in reality, matches are feasible only in a subset of all\n",
    "# these pairs. So, let's make this subset.\n",
    "\n",
    "pairs = [] # possible matching pairs (subset of ALL possible pairs)\n",
    "\n",
    "# Since the folding is in a 2D grid, the protein has to make a\n",
    "# 180 degrees curve to allow a match to occur. This eliminates\n",
    "# the possibility that neighbors acids match.\n",
    "\n",
    "for i in hydrophobics:\n",
    "    for j in hydrophobics:\n",
    "        if j > i + 1:\n",
    "            pairs.append((i, j))\n",
    "            \n",
    "# Now, giving a pair, in which position would a fold appear?\n",
    "# Anywhere between i and j, as long as there's an even number\n",
    "# of acids between them.\n",
    "\n",
    "match_and_fold = []\n",
    "match_and_cant_fold = []\n",
    "\n",
    "for i, j in pairs:\n",
    "    b = j - i - 1                                # number of acids between i and j   \n",
    "    for f in range(i, j):\n",
    "        if f == i + b/2 and b % 2 == 0:          # is b an even number?\n",
    "            match_and_fold.append((i, j, f))\n",
    "        else:\n",
    "            match_and_cant_fold.append((i, j, f))\n",
    "           "
   ]
  },
  {
   "cell_type": "code",
   "execution_count": 72,
   "metadata": {},
   "outputs": [],
   "source": [
    "model = gp.Model('Protein Folding')\n",
    "\n",
    "# add vars\n",
    "match = model.addVars(pairs, \n",
    "                      vtype=GRB.BINARY, \n",
    "                      name='match')\n",
    "fold = model.addVars(aminoacids,\n",
    "                     vtype=GRB.BINARY,\n",
    "                     name='fold')\n",
    "\n",
    "# objective function\n",
    "model.setObjective(gp.quicksum(match[i,j] for i, j, f in match_and_fold),\n",
    "                   GRB.MAXIMIZE)\n",
    "\n",
    "# add constraints\n",
    "model.addConstrs((match[i, j] == fold[f] for i, j, f in match_and_fold),\n",
    "                  name='if_match_then_fold')\n",
    "\n",
    "model.addConstrs((fold[f] + match[i, j] <= 1 for i, j, f in match_and_cant_fold),\n",
    "                  name='block_other_folds')\n",
    "model.update()"
   ]
  },
  {
   "cell_type": "code",
   "execution_count": 73,
   "metadata": {
    "scrolled": true
   },
   "outputs": [
    {
     "name": "stdout",
     "output_type": "stream",
     "text": [
      "Gurobi Optimizer version 9.1.0 build v9.1.0rc0 (win64)\n",
      "Thread count: 4 physical cores, 8 logical processors, using up to 8 threads\n",
      "Optimize a model with 2441 rows, 197 columns and 4882 nonzeros\n",
      "Model fingerprint: 0xcec2b67c\n",
      "Variable types: 0 continuous, 197 integer (197 binary)\n",
      "Coefficient statistics:\n",
      "  Matrix range     [1e+00, 1e+00]\n",
      "  Objective range  [1e+00, 1e+00]\n",
      "  Bounds range     [1e+00, 1e+00]\n",
      "  RHS range        [1e+00, 1e+00]\n",
      "Found heuristic solution: objective -0.0000000\n",
      "Presolve removed 2441 rows and 197 columns\n",
      "Presolve time: 0.00s\n",
      "Presolve: All rows and columns removed\n",
      "\n",
      "Explored 0 nodes (0 simplex iterations) in 0.02 seconds\n",
      "Thread count was 1 (of 8 available processors)\n",
      "\n",
      "Solution count 2: 8 \n",
      "\n",
      "Optimal solution found (tolerance 1.00e-04)\n",
      "Best objective 8.000000000000e+00, best bound 8.000000000000e+00, gap 0.0000%\n"
     ]
    }
   ],
   "source": [
    "model.write('Protein Folding.lp')\n",
    "model.optimize()"
   ]
  },
  {
   "cell_type": "code",
   "execution_count": 79,
   "metadata": {},
   "outputs": [
    {
     "name": "stdout",
     "output_type": "stream",
     "text": [
      "Total of 8.0 matches\n",
      "Matches between these pairs:\n",
      "(2, 5)\n",
      "(5, 12)\n",
      "(6, 11)\n",
      "(12, 33)\n",
      "(17, 28)\n",
      "(20, 25)\n",
      "(31, 46)\n",
      "(33, 44)\n",
      "Folds in these acids:\n",
      "3\n",
      "8\n",
      "22\n",
      "38\n"
     ]
    }
   ],
   "source": [
    "print(\"Total of {} matches\".format(sum(match[m].x for m in match)))\n",
    "print(\"Matches between these pairs:\")\n",
    "for m in match:\n",
    "    if match[m].x == 1: print(m)\n",
    "print(\"Folds in these acids:\")\n",
    "for f in fold:\n",
    "    if fold[f].x == 1: print(f)"
   ]
  }
 ],
 "metadata": {
  "kernelspec": {
   "display_name": "Python 3",
   "language": "python",
   "name": "python3"
  },
  "language_info": {
   "codemirror_mode": {
    "name": "ipython",
    "version": 3
   },
   "file_extension": ".py",
   "mimetype": "text/x-python",
   "name": "python",
   "nbconvert_exporter": "python",
   "pygments_lexer": "ipython3",
   "version": "3.8.6"
  }
 },
 "nbformat": 4,
 "nbformat_minor": 2
}
